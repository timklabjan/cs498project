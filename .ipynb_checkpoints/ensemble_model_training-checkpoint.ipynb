{
 "cells": [
  {
   "cell_type": "markdown",
   "metadata": {},
   "source": [
    "## Multiclass Topic Prediction on StackExchange data"
   ]
  },
  {
   "cell_type": "code",
   "execution_count": null,
   "metadata": {},
   "outputs": [],
   "source": [
    "import pandas as pd\n",
    "from sklearn.feature_extraction.text import CountVectorizer, TfidfVectorizer\n",
    "from sklearn.linear_model import LogisticRegression\n",
    "from sklearn.model_selection import train_test_split, KFold\n",
    "from sklearn.metrics import accuracy_score, confusion_matrix\n",
    "from sklearn.ensemble import VotingClassifier\n",
    "from sklearn.naive_bayes import MultinomialNB\n",
    "from sklearn.svm import LinearSVC\n",
    "from sklearn.model_selection import GridSearchCV, cross_val_score\n",
    "import numpy as np\n",
    "import pickle\n",
    "import warnings\n",
    "warnings.filterwarnings('ignore')"
   ]
  },
  {
   "cell_type": "markdown",
   "metadata": {},
   "source": [
    "### read in data"
   ]
  },
  {
   "cell_type": "code",
   "execution_count": null,
   "metadata": {},
   "outputs": [],
   "source": [
    "data = pd.read_csv(\"content_topic_prediction/Topic_prediction_data_train.txt\",sep='\\t',header=None)\n",
    "data.columns = ['text','uid','type','timestamp']\n",
    "labels = pd.read_csv(\"content_topic_prediction/Topic_prediction_labels_train.txt\",sep='\\t',header=None)\n",
    "labels.columns = ['label']\n",
    "data['label'] = labels['label']"
   ]
  },
  {
   "cell_type": "code",
   "execution_count": null,
   "metadata": {},
   "outputs": [],
   "source": [
    "data.head()"
   ]
  },
  {
   "cell_type": "markdown",
   "metadata": {},
   "source": [
    "### drop null values"
   ]
  },
  {
   "cell_type": "code",
   "execution_count": null,
   "metadata": {},
   "outputs": [],
   "source": [
    "data = data[(data['text'].notnull())]"
   ]
  },
  {
   "cell_type": "markdown",
   "metadata": {},
   "source": [
    "### convert text data to term frequency vectors."
   ]
  },
  {
   "cell_type": "code",
   "execution_count": null,
   "metadata": {},
   "outputs": [],
   "source": [
    "vectorizer = CountVectorizer(analyzer = \"word\",   \n",
    "                             tokenizer = None,    \n",
    "                             preprocessor = None, \n",
    "                             stop_words = None,   \n",
    "                             max_features = 5000)\n",
    "train_data_features = vectorizer.fit_transform(data[\"text\"])\n",
    "pickle.dump(vectorizer,open(\"vectorizer.p\",\"wb\" ))\n",
    "features= np.array(train_data_features)"
   ]
  },
  {
   "cell_type": "code",
   "execution_count": 14,
   "metadata": {},
   "outputs": [
    {
     "data": {
      "text/plain": [
       "array(<96269x5000 sparse matrix of type '<class 'numpy.int64'>'\n",
       "\twith 3796534 stored elements in Compressed Sparse Row format>,\n",
       "      dtype=object)"
      ]
     },
     "execution_count": 14,
     "metadata": {},
     "output_type": "execute_result"
    }
   ],
   "source": [
    "features"
   ]
  },
  {
   "cell_type": "markdown",
   "metadata": {},
   "source": [
    "### Train a support vector classifier"
   ]
  },
  {
   "cell_type": "code",
   "execution_count": 18,
   "metadata": {},
   "outputs": [
    {
     "name": "stdout",
     "output_type": "stream",
     "text": [
      "Accuracy is 0.7259146122199797\n"
     ]
    }
   ],
   "source": [
    "clf_LinearSVC= LinearSVC(penalty='l2')\n",
    "scores_LinearSVC= cross_val_score(clf_LinearSVC, train_data_features, data[\"label\"], cv=5, scoring='accuracy')\n",
    "print(\"Accuracy is {0}\".format(scores_LinearSVC.mean()))"
   ]
  },
  {
   "cell_type": "markdown",
   "metadata": {},
   "source": [
    "### Train a Logisitic Regression classifier. "
   ]
  },
  {
   "cell_type": "code",
   "execution_count": 20,
   "metadata": {},
   "outputs": [
    {
     "name": "stdout",
     "output_type": "stream",
     "text": [
      "Accuracy is 0.7248131364637498\n"
     ]
    }
   ],
   "source": [
    "clf_LR= LogisticRegression(random_state=1,C=1,penalty='l2')\n",
    "scores_LR=  cross_val_score(clf_LR, train_data_features, data[\"label\"], cv=5, scoring='accuracy')\n",
    "print(\"Accuracy is {0}\".format(scores_LR.mean()))"
   ]
  },
  {
   "cell_type": "markdown",
   "metadata": {},
   "source": [
    "### tune model paramaters"
   ]
  },
  {
   "cell_type": "code",
   "execution_count": null,
   "metadata": {},
   "outputs": [],
   "source": [
    "#lr = LogisticRegression(random_state=1)\n",
    "#lr_params = {'penalty':('l1','l2'),'C':[0.1,1,10],'fit_intercept':(True,False)}\n",
    "#lr_cv = GridSearchCV(lr,lr_params,cv=2)\n",
    "#nb = MultinomialNB()\n",
    "#nb_params = {'alpha':[0.001,0.5,1]}\n",
    "#nb_cv = GridSearchCV(nb,nb_params,cv=2)\n",
    "#svc = LinearSVC(random_state=1)\n",
    "#svc_params = {'penalty':('l1','l2'),'C':[0.1,1,10]}\n",
    "#svc_cv = GridSearchCV(lr,lr_params,cv=2)\n",
    "\n",
    "#lr_cv.fit(train_data_features,data[\"label\"])\n",
    "#nb_cv.fit(train_data_features,data[\"label\"])\n",
    "#svc_cv.fit(train_data_features,data[\"label\"])\n",
    "#print(lr_cv.best_params_)\n",
    "#print(nb_cv.best_params_)\n",
    "#print(svc_cv.best_params_)"
   ]
  },
  {
   "cell_type": "markdown",
   "metadata": {},
   "source": [
    "### Now, train an ensemble model, get cross validation accuracy scores using 5-fold validation"
   ]
  },
  {
   "cell_type": "code",
   "execution_count": null,
   "metadata": {},
   "outputs": [],
   "source": [
    "#classifier = VotingClassifier(estimators=[('lr',LogisticRegression(random_state=1,C=1,penalty='l2')),('nb',MultinomialNB(alpha=0.001)),('svc',LinearSVC(random_state=1,C=1,penalty='l2'))],voting='hard')\n",
    "classifier = VotingClassifier(estimators=[('lr',LogisticRegression()),('nb',MultinomialNB()),('svc',LinearSVC())],voting='hard')\n",
    "scores = cross_val_score(classifier, train_data_features, data[\"label\"], cv=5, scoring='accuracy')\n",
    "\n",
    "#save the classifier\n",
    "#pickle.dump(classifier,open(\"ensemble_model.p\",\"wb\"))"
   ]
  },
  {
   "cell_type": "markdown",
   "metadata": {},
   "source": [
    "### print average accuracy for ensemble."
   ]
  },
  {
   "cell_type": "code",
   "execution_count": 15,
   "metadata": {},
   "outputs": [
    {
     "name": "stdout",
     "output_type": "stream",
     "text": [
      "Accuracy is 0.7541272020289477\n"
     ]
    }
   ],
   "source": [
    "print(\"Accuracy is {0}\".format(scores.mean()))\n",
    "#tf and logreg - .7202\n",
    "#tfidf and logreg - .709\n",
    "#tf and ensemble - .7512\n",
    "#tfidf and ensemble - .7286\n",
    "#tf and tuned ensemble - .751\n",
    "#tf and ensemble and bi/tri grams - 0.7344"
   ]
  },
  {
   "cell_type": "markdown",
   "metadata": {},
   "source": [
    "### Use TF-IDF scheme and include bi-grams and tri-grams features"
   ]
  },
  {
   "cell_type": "code",
   "execution_count": null,
   "metadata": {},
   "outputs": [],
   "source": [
    "from sklearn.feature_extraction.text import TfidfVectorizer\n",
    "tfVect= TfidfVectorizer(min_df=.001, sublinear_tf = True,ngram_range=(1,3)).fit_transform(data[\"text\"]).todense()"
   ]
  },
  {
   "cell_type": "code",
   "execution_count": null,
   "metadata": {},
   "outputs": [],
   "source": [
    "tfVect.shape"
   ]
  },
  {
   "cell_type": "code",
   "execution_count": null,
   "metadata": {},
   "outputs": [],
   "source": [
    "classifier_tid = VotingClassifier(estimators=[('lr',LogisticRegression(random_state=1,C=1,penalty='l2')),('nb',MultinomialNB(alpha=0.001)),('svc',LinearSVC(random_state=1,C=1,penalty='l2'))],voting='hard')\n",
    "scores_tid = cross_val_score(classifier, tfVect, data[\"label\"], cv=5, scoring='accuracy')"
   ]
  },
  {
   "cell_type": "code",
   "execution_count": 16,
   "metadata": {},
   "outputs": [
    {
     "name": "stdout",
     "output_type": "stream",
     "text": [
      "Accuracy is 0.7325510633527312\n"
     ]
    }
   ],
   "source": [
    "print(\"Accuracy is {0}\".format(scores_tid.mean()))"
   ]
  },
  {
   "cell_type": "code",
   "execution_count": null,
   "metadata": {},
   "outputs": [],
   "source": []
  }
 ],
 "metadata": {
  "kernelspec": {
   "display_name": "Python 3",
   "language": "python",
   "name": "python3"
  },
  "language_info": {
   "codemirror_mode": {
    "name": "ipython",
    "version": 3
   },
   "file_extension": ".py",
   "mimetype": "text/x-python",
   "name": "python",
   "nbconvert_exporter": "python",
   "pygments_lexer": "ipython3",
   "version": "3.6.4"
  }
 },
 "nbformat": 4,
 "nbformat_minor": 2
}
