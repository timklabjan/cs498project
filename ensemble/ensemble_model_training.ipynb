{
 "cells": [
  {
   "cell_type": "markdown",
   "metadata": {},
   "source": [
    "###import packages"
   ]
  },
  {
   "cell_type": "code",
   "execution_count": 1,
   "metadata": {},
   "outputs": [
    {
     "name": "stderr",
     "output_type": "stream",
     "text": [
      "/Users/timklabjan/anaconda3/lib/python3.7/site-packages/sklearn/ensemble/weight_boosting.py:29: DeprecationWarning: numpy.core.umath_tests is an internal NumPy module and should not be imported. It will be removed in a future NumPy release.\n",
      "  from numpy.core.umath_tests import inner1d\n"
     ]
    }
   ],
   "source": [
    "import pandas as pd\n",
    "from sklearn.feature_extraction.text import CountVectorizer, TfidfVectorizer\n",
    "from sklearn.linear_model import LogisticRegression\n",
    "from sklearn.model_selection import train_test_split, KFold\n",
    "from sklearn.metrics import accuracy_score, confusion_matrix\n",
    "from sklearn.ensemble import VotingClassifier\n",
    "from sklearn.naive_bayes import MultinomialNB\n",
    "from sklearn.svm import LinearSVC\n",
    "from sklearn.model_selection import GridSearchCV, cross_val_score\n",
    "import numpy as np\n",
    "import pickle"
   ]
  },
  {
   "cell_type": "markdown",
   "metadata": {},
   "source": [
    "###read in data"
   ]
  },
  {
   "cell_type": "code",
   "execution_count": 2,
   "metadata": {},
   "outputs": [],
   "source": [
    "data = pd.read_csv(\"content_topic_prediction/Topic_prediction_data_train.txt\",sep='\\t',header=None)\n",
    "data.columns = ['text','uid','type','timestamp']\n",
    "labels = pd.read_csv(\"content_topic_prediction/Topic_prediction_labels_train.txt\",sep='\\t',header=None)\n",
    "labels.columns = ['label']\n",
    "data['label'] = labels['label']"
   ]
  },
  {
   "cell_type": "code",
   "execution_count": 3,
   "metadata": {},
   "outputs": [
    {
     "data": {
      "text/html": [
       "<div>\n",
       "<style scoped>\n",
       "    .dataframe tbody tr th:only-of-type {\n",
       "        vertical-align: middle;\n",
       "    }\n",
       "\n",
       "    .dataframe tbody tr th {\n",
       "        vertical-align: top;\n",
       "    }\n",
       "\n",
       "    .dataframe thead th {\n",
       "        text-align: right;\n",
       "    }\n",
       "</style>\n",
       "<table border=\"1\" class=\"dataframe\">\n",
       "  <thead>\n",
       "    <tr style=\"text-align: right;\">\n",
       "      <th></th>\n",
       "      <th>text</th>\n",
       "      <th>uid</th>\n",
       "      <th>type</th>\n",
       "      <th>timestamp</th>\n",
       "      <th>label</th>\n",
       "    </tr>\n",
       "  </thead>\n",
       "  <tbody>\n",
       "    <tr>\n",
       "      <th>0</th>\n",
       "      <td>distinct consubstanti translat roman missal pu...</td>\n",
       "      <td>0</td>\n",
       "      <td>Q</td>\n",
       "      <td>0.01</td>\n",
       "      <td>9</td>\n",
       "    </tr>\n",
       "    <tr>\n",
       "      <th>1</th>\n",
       "      <td>cathol christian power bind loos catholic beli...</td>\n",
       "      <td>0</td>\n",
       "      <td>Q</td>\n",
       "      <td>0.01</td>\n",
       "      <td>0</td>\n",
       "    </tr>\n",
       "    <tr>\n",
       "      <th>2</th>\n",
       "      <td>read scriptur common worship christian church ...</td>\n",
       "      <td>0</td>\n",
       "      <td>Q</td>\n",
       "      <td>0.01</td>\n",
       "      <td>9</td>\n",
       "    </tr>\n",
       "    <tr>\n",
       "      <th>3</th>\n",
       "      <td>accord person polit libertarian compat golden ...</td>\n",
       "      <td>0</td>\n",
       "      <td>Q</td>\n",
       "      <td>0.01</td>\n",
       "      <td>0</td>\n",
       "    </tr>\n",
       "    <tr>\n",
       "      <th>4</th>\n",
       "      <td>criteria cathol determin testament charact pre...</td>\n",
       "      <td>0</td>\n",
       "      <td>Q</td>\n",
       "      <td>0.01</td>\n",
       "      <td>0</td>\n",
       "    </tr>\n",
       "  </tbody>\n",
       "</table>\n",
       "</div>"
      ],
      "text/plain": [
       "                                                text  uid type  timestamp  \\\n",
       "0  distinct consubstanti translat roman missal pu...    0    Q       0.01   \n",
       "1  cathol christian power bind loos catholic beli...    0    Q       0.01   \n",
       "2  read scriptur common worship christian church ...    0    Q       0.01   \n",
       "3  accord person polit libertarian compat golden ...    0    Q       0.01   \n",
       "4  criteria cathol determin testament charact pre...    0    Q       0.01   \n",
       "\n",
       "   label  \n",
       "0      9  \n",
       "1      0  \n",
       "2      9  \n",
       "3      0  \n",
       "4      0  "
      ]
     },
     "execution_count": 3,
     "metadata": {},
     "output_type": "execute_result"
    }
   ],
   "source": [
    "data.head()"
   ]
  },
  {
   "cell_type": "markdown",
   "metadata": {},
   "source": [
    "###drop null values"
   ]
  },
  {
   "cell_type": "code",
   "execution_count": 4,
   "metadata": {},
   "outputs": [],
   "source": [
    "data = data[(data['text'].notnull())]"
   ]
  },
  {
   "cell_type": "markdown",
   "metadata": {},
   "source": [
    "###convert text data to term frequency vectors"
   ]
  },
  {
   "cell_type": "code",
   "execution_count": 11,
   "metadata": {},
   "outputs": [],
   "source": [
    "vectorizer = CountVectorizer(analyzer = \"word\",   \n",
    "                             tokenizer = None,    \n",
    "                             preprocessor = None, \n",
    "                             stop_words = None,   \n",
    "                             max_features = 5000,ngram_range=(1,1))\n",
    "train_data_features = vectorizer.fit_transform(data[\"text\"])\n",
    "pickle.dump(vectorizer,open(\"vectorizer.p\",\"wb\" ))\n",
    "features= np.array(train_data_features)"
   ]
  },
  {
   "cell_type": "markdown",
   "metadata": {},
   "source": [
    "###tune model paramaters"
   ]
  },
  {
   "cell_type": "code",
   "execution_count": 8,
   "metadata": {},
   "outputs": [],
   "source": [
    "#lr = LogisticRegression(random_state=1)\n",
    "#lr_params = {'penalty':('l1','l2'),'C':[0.1,1,10],'fit_intercept':(True,False)}\n",
    "#lr_cv = GridSearchCV(lr,lr_params,cv=2)\n",
    "#nb = MultinomialNB()\n",
    "#nb_params = {'alpha':[0.001,0.5,1]}\n",
    "#nb_cv = GridSearchCV(nb,nb_params,cv=2)\n",
    "#svc = LinearSVC(random_state=1)\n",
    "#svc_params = {'penalty':('l1','l2'),'C':[0.1,1,10]}\n",
    "#svc_cv = GridSearchCV(lr,lr_params,cv=2)\n",
    "\n",
    "#lr_cv.fit(train_data_features,data[\"label\"])\n",
    "#nb_cv.fit(train_data_features,data[\"label\"])\n",
    "#svc_cv.fit(train_data_features,data[\"label\"])\n",
    "#print(lr_cv.best_params_)\n",
    "#print(nb_cv.best_params_)\n",
    "#print(svc_cv.best_params_)"
   ]
  },
  {
   "cell_type": "markdown",
   "metadata": {},
   "source": [
    "###train ensemble model, get cross validation accuracy scores"
   ]
  },
  {
   "cell_type": "code",
   "execution_count": 18,
   "metadata": {},
   "outputs": [],
   "source": [
    "#classifier = VotingClassifier(estimators=[('lr',LogisticRegression(random_state=1,C=1,penalty='l2')),('nb',MultinomialNB(alpha=0.001)),('svc',LinearSVC(random_state=1,C=1,penalty='l2'))],voting='hard')\n",
    "classifier = VotingClassifier(estimators=[('lr',LogisticRegression()),('nb',MultinomialNB()),('svc',LinearSVC())],voting='hard')\n",
    "scores = cross_val_score(classifier, train_data_features, data[\"label\"], cv=5, scoring='accuracy')\n",
    "#pickle.dump(classifier,open(\"ensemble_model.p\",\"wb\"))"
   ]
  },
  {
   "cell_type": "markdown",
   "metadata": {},
   "source": [
    "###print average accuracy"
   ]
  },
  {
   "cell_type": "code",
   "execution_count": 17,
   "metadata": {},
   "outputs": [
    {
     "data": {
      "text/plain": [
       "0.7511493578555837"
      ]
     },
     "execution_count": 17,
     "metadata": {},
     "output_type": "execute_result"
    }
   ],
   "source": [
    "scores.mean()\n",
    "#tf and logreg - .7202\n",
    "#tfidf and logreg - .709\n",
    "#tf and ensemble - .7512\n",
    "#tfidf and ensemble - .7286\n",
    "#tf and tuned ensemble - .751\n",
    "#tf and ensemble and bi/tri grams - 0.7344"
   ]
  },
  {
   "cell_type": "code",
   "execution_count": null,
   "metadata": {},
   "outputs": [],
   "source": [
    "classifier = pickle.load(open(\"ensemble_model.p\",\"rb\"))\n",
    "preds = classifier.predict(train_data_features)\n",
    "confusion_matrix(data[\"label\"],preds)"
   ]
  }
 ],
 "metadata": {
  "kernelspec": {
   "display_name": "Python 3",
   "language": "python",
   "name": "python3"
  },
  "language_info": {
   "codemirror_mode": {
    "name": "ipython",
    "version": 3
   },
   "file_extension": ".py",
   "mimetype": "text/x-python",
   "name": "python",
   "nbconvert_exporter": "python",
   "pygments_lexer": "ipython3",
   "version": "3.7.0"
  }
 },
 "nbformat": 4,
 "nbformat_minor": 2
}
