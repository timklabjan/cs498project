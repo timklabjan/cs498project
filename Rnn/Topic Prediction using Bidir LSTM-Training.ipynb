{
 "cells": [
  {
   "cell_type": "code",
   "execution_count": null,
   "metadata": {},
   "outputs": [],
   "source": [
    "## Use Bi-directional LSTM for topic predictions. "
   ]
  },
  {
   "cell_type": "code",
   "execution_count": 1,
   "metadata": {},
   "outputs": [],
   "source": [
    "import pandas as pd\n",
    "import numpy as np\n",
    "import seaborn as sns\n",
    "rnds=1"
   ]
  },
  {
   "cell_type": "code",
   "execution_count": 2,
   "metadata": {},
   "outputs": [],
   "source": [
    "data = pd.read_csv(\"Topic_prediction_data_train.txt\",sep='\\t',header=None)\n",
    "data.columns = ['text','uid','type','timestamp']\n",
    "labels = pd.read_csv(\"Topic_prediction_labels_train.txt\",sep='\\t',header=None)\n",
    "labels.columns = ['label']\n",
    "data['label'] = labels['label']"
   ]
  },
  {
   "cell_type": "code",
   "execution_count": 3,
   "metadata": {},
   "outputs": [
    {
     "data": {
      "text/html": [
       "<div>\n",
       "<style scoped>\n",
       "    .dataframe tbody tr th:only-of-type {\n",
       "        vertical-align: middle;\n",
       "    }\n",
       "\n",
       "    .dataframe tbody tr th {\n",
       "        vertical-align: top;\n",
       "    }\n",
       "\n",
       "    .dataframe thead th {\n",
       "        text-align: right;\n",
       "    }\n",
       "</style>\n",
       "<table border=\"1\" class=\"dataframe\">\n",
       "  <thead>\n",
       "    <tr style=\"text-align: right;\">\n",
       "      <th></th>\n",
       "      <th>text</th>\n",
       "      <th>uid</th>\n",
       "      <th>type</th>\n",
       "      <th>timestamp</th>\n",
       "      <th>label</th>\n",
       "    </tr>\n",
       "  </thead>\n",
       "  <tbody>\n",
       "    <tr>\n",
       "      <th>0</th>\n",
       "      <td>distinct consubstanti translat roman missal pu...</td>\n",
       "      <td>0</td>\n",
       "      <td>Q</td>\n",
       "      <td>0.01</td>\n",
       "      <td>9</td>\n",
       "    </tr>\n",
       "    <tr>\n",
       "      <th>1</th>\n",
       "      <td>cathol christian power bind loos catholic beli...</td>\n",
       "      <td>0</td>\n",
       "      <td>Q</td>\n",
       "      <td>0.01</td>\n",
       "      <td>0</td>\n",
       "    </tr>\n",
       "    <tr>\n",
       "      <th>2</th>\n",
       "      <td>read scriptur common worship christian church ...</td>\n",
       "      <td>0</td>\n",
       "      <td>Q</td>\n",
       "      <td>0.01</td>\n",
       "      <td>9</td>\n",
       "    </tr>\n",
       "    <tr>\n",
       "      <th>3</th>\n",
       "      <td>accord person polit libertarian compat golden ...</td>\n",
       "      <td>0</td>\n",
       "      <td>Q</td>\n",
       "      <td>0.01</td>\n",
       "      <td>0</td>\n",
       "    </tr>\n",
       "    <tr>\n",
       "      <th>4</th>\n",
       "      <td>criteria cathol determin testament charact pre...</td>\n",
       "      <td>0</td>\n",
       "      <td>Q</td>\n",
       "      <td>0.01</td>\n",
       "      <td>0</td>\n",
       "    </tr>\n",
       "  </tbody>\n",
       "</table>\n",
       "</div>"
      ],
      "text/plain": [
       "                                                text  uid type  timestamp  \\\n",
       "0  distinct consubstanti translat roman missal pu...    0    Q       0.01   \n",
       "1  cathol christian power bind loos catholic beli...    0    Q       0.01   \n",
       "2  read scriptur common worship christian church ...    0    Q       0.01   \n",
       "3  accord person polit libertarian compat golden ...    0    Q       0.01   \n",
       "4  criteria cathol determin testament charact pre...    0    Q       0.01   \n",
       "\n",
       "   label  \n",
       "0      9  \n",
       "1      0  \n",
       "2      9  \n",
       "3      0  \n",
       "4      0  "
      ]
     },
     "execution_count": 3,
     "metadata": {},
     "output_type": "execute_result"
    }
   ],
   "source": [
    "data.head()"
   ]
  },
  {
   "cell_type": "code",
   "execution_count": 4,
   "metadata": {},
   "outputs": [
    {
     "data": {
      "text/plain": [
       "1847"
      ]
     },
     "execution_count": 4,
     "metadata": {},
     "output_type": "execute_result"
    }
   ],
   "source": [
    "\n",
    "len(data[data[\"text\"].isnull()])"
   ]
  },
  {
   "cell_type": "code",
   "execution_count": 5,
   "metadata": {},
   "outputs": [],
   "source": [
    "# remove rows that have null text\n",
    "data = data[(data['text'].notnull())]\n",
    "data=data.reset_index(drop=True)"
   ]
  },
  {
   "cell_type": "code",
   "execution_count": 6,
   "metadata": {},
   "outputs": [],
   "source": [
    "alltext = [i.split(' ') for i in data[\"text\"]]\n",
    "textlength = [len(i.split(' ')) for i in data[\"text\"]]"
   ]
  },
  {
   "cell_type": "code",
   "execution_count": 7,
   "metadata": {},
   "outputs": [
    {
     "data": {
      "text/plain": [
       "16499"
      ]
     },
     "execution_count": 7,
     "metadata": {},
     "output_type": "execute_result"
    }
   ],
   "source": [
    "textlength.index(1887)"
   ]
  },
  {
   "cell_type": "code",
   "execution_count": 8,
   "metadata": {},
   "outputs": [
    {
     "data": {
      "text/plain": [
       "63.732073668574515"
      ]
     },
     "execution_count": 8,
     "metadata": {},
     "output_type": "execute_result"
    }
   ],
   "source": [
    "textlength.sort()\n",
    "np.mean(textlength)"
   ]
  },
  {
   "cell_type": "code",
   "execution_count": 9,
   "metadata": {},
   "outputs": [
    {
     "data": {
      "text/plain": [
       "<matplotlib.axes._subplots.AxesSubplot at 0x267da1fda58>"
      ]
     },
     "execution_count": 9,
     "metadata": {},
     "output_type": "execute_result"
    },
    {
     "data": {
      "image/png": "[encoded data removed]",
      "text/plain": [
       "<Figure size 432x288 with 1 Axes>"
      ]
     },
     "metadata": {},
     "output_type": "display_data"
    }
   ],
   "source": [
    "#see the distribution of sentence lengths to truncate. seems like most data is captured within a sentech length of 350 words.\n",
    "sns.distplot(textlength)"
   ]
  },
  {
   "cell_type": "code",
   "execution_count": 10,
   "metadata": {},
   "outputs": [
    {
     "name": "stdout",
     "output_type": "stream",
     "text": [
      "9422\n"
     ]
    }
   ],
   "source": [
    "#find all unique words\n",
    "all_list =  []\n",
    "for i in range(len(alltext)):\n",
    "    all_list.extend(alltext[i])\n",
    "unique=list(set(all_list))\n",
    "print(len(unique))\n",
    "    "
   ]
  },
  {
   "cell_type": "code",
   "execution_count": 124,
   "metadata": {},
   "outputs": [],
   "source": [
    "#build a word dictionary\n",
    "w_dic ={}\n",
    "for i in range(len(unique)):\n",
    "    w_dic[unique[i]]=i+1"
   ]
  },
  {
   "cell_type": "code",
   "execution_count": null,
   "metadata": {},
   "outputs": [],
   "source": []
  },
  {
   "cell_type": "code",
   "execution_count": 125,
   "metadata": {},
   "outputs": [
    {
     "data": {
      "text/plain": [
       "{'palmyra': 1,\n",
       " 'cement': 2,\n",
       " 'earth': 3,\n",
       " 'exhibit': 4,\n",
       " 'regret': 5,\n",
       " 'robe': 6,\n",
       " 'immigr': 7,\n",
       " 'farm': 8,\n",
       " 'fed': 9,\n",
       " 'aboard': 10,\n",
       " 'aug': 11,\n",
       " 'cubit': 12,\n",
       " 'decad': 13,\n",
       " 'rephaim': 14,\n",
       " 'ailment': 15,\n",
       " 'plain': 16,\n",
       " 'reaper': 17,\n",
       " 'skeptic': 18,\n",
       " 'woe': 19,\n",
       " 'appeal': 20,\n",
       " 'safeti': 21,\n",
       " 'jame': 22,\n",
       " 'rick': 23,\n",
       " 'spent': 24,\n",
       " 'ann': 25,\n",
       " 'azusa': 26,\n",
       " 'goeth': 27,\n",
       " 'archeologist': 28,\n",
       " 'curs': 29,\n",
       " 'kierkegaard': 30,\n",
       " 'young': 31,\n",
       " 'revolv': 32,\n",
       " 'bush': 33,\n",
       " 'bogus': 34,\n",
       " 'journey': 35,\n",
       " 'yud': 36,\n",
       " 'endors': 37,\n",
       " 'neh': 38,\n",
       " 'wrede': 39,\n",
       " 'shoot': 40,\n",
       " 'overflow': 41,\n",
       " 'extremist': 42,\n",
       " 'damsel': 43,\n",
       " 'creatur': 44,\n",
       " 'profound': 45,\n",
       " 'becom': 46,\n",
       " 'lukewarm': 47,\n",
       " 'locust': 48,\n",
       " 'anachronist': 49,\n",
       " 'aeon': 50,\n",
       " 'porch': 51,\n",
       " 'becometh': 52,\n",
       " 'discontinu': 53,\n",
       " 'attack': 54,\n",
       " 'augustin': 55,\n",
       " 'ehrman': 56,\n",
       " 'hom': 57,\n",
       " 'disput': 58,\n",
       " 'ness': 59,\n",
       " 'elizabeth': 60,\n",
       " 'apocryph': 61,\n",
       " 'scriptur': 62,\n",
       " 'crux': 63,\n",
       " 'stranger': 64,\n",
       " 'del': 65,\n",
       " 'psychiatrist': 66,\n",
       " 'legendari': 67,\n",
       " 'grind': 68,\n",
       " 'purpos': 69,\n",
       " 'reunif': 70,\n",
       " 'dec': 71,\n",
       " 'desol': 72,\n",
       " 'oppos': 73,\n",
       " 'certifi': 74,\n",
       " 'mythic': 75,\n",
       " 'relationship': 76,\n",
       " 'euphem': 77,\n",
       " 'stellar': 78,\n",
       " 'unwilling': 79,\n",
       " '70s': 80,\n",
       " 'util': 81,\n",
       " 'meter': 82,\n",
       " 'antidot': 83,\n",
       " 'earliest': 84,\n",
       " 'suspens': 85,\n",
       " 'dissolv': 86,\n",
       " 'nihilo': 87,\n",
       " 'seventh': 88,\n",
       " 'missouri': 89,\n",
       " 'thrown': 90,\n",
       " 'benson': 91,\n",
       " 'pirat': 92,\n",
       " 'withstood': 93,\n",
       " 'endor': 94,\n",
       " 'manuscript': 95,\n",
       " 'incest': 96,\n",
       " 'algorithm': 97,\n",
       " 'enrich': 98,\n",
       " 'guitar': 99,\n",
       " 'similitud': 100,\n",
       " 'arbitrarili': 101,\n",
       " 'smooth': 102,\n",
       " 'intermarri': 103,\n",
       " 'mamr': 104,\n",
       " 'easi': 105,\n",
       " 'paper': 106,\n",
       " 'remnant': 107,\n",
       " 'blatant': 108,\n",
       " 'handwrit': 109,\n",
       " 'shoe': 110,\n",
       " 'gratia': 111,\n",
       " 'secur': 112,\n",
       " 'abolit': 113,\n",
       " 'medit': 114,\n",
       " 'bound': 115,\n",
       " 'accomplish': 116,\n",
       " 'xxiii': 117,\n",
       " 'theosi': 118,\n",
       " 'humanist': 119,\n",
       " 'catechumen': 120,\n",
       " 'opportun': 121,\n",
       " 'vigil': 122,\n",
       " 'grew': 123,\n",
       " 'illumin': 124,\n",
       " 'track': 125,\n",
       " 'intens': 126,\n",
       " 'modus': 127,\n",
       " 'stringent': 128,\n",
       " 'hit': 129,\n",
       " 'illus': 130,\n",
       " 'damascus': 131,\n",
       " 'slaughter': 132,\n",
       " 'psych': 133,\n",
       " 'gracious': 134,\n",
       " 'sancta': 135,\n",
       " 'zillah': 136,\n",
       " 'hate': 137,\n",
       " 'dort': 138,\n",
       " 'supplic': 139,\n",
       " 'condens': 140,\n",
       " 'despit': 141,\n",
       " 'salin': 142,\n",
       " 'willard': 143,\n",
       " 'uplift': 144,\n",
       " 'fewer': 145,\n",
       " 'addendum': 146,\n",
       " 'eon': 147,\n",
       " '20of': 148,\n",
       " 'aatma': 149,\n",
       " 'save': 150,\n",
       " 'outer': 151,\n",
       " 'stave': 152,\n",
       " 'england': 153,\n",
       " 'subjug': 154,\n",
       " 'unnecessarili': 155,\n",
       " 'picki': 156,\n",
       " 'afford': 157,\n",
       " 'banquet': 158,\n",
       " 'forbidden': 159,\n",
       " 'rabbin': 160,\n",
       " 'booth': 161,\n",
       " 'scotland': 162,\n",
       " 'tea': 163,\n",
       " 'groundwork': 164,\n",
       " 'thiselton': 165,\n",
       " 'mood': 166,\n",
       " 'whenev': 167,\n",
       " 'henceforth': 168,\n",
       " 'treasuri': 169,\n",
       " 'tract': 170,\n",
       " 'naaman': 171,\n",
       " 'compat': 172,\n",
       " 'valtorta': 173,\n",
       " 'demot': 174,\n",
       " 'remors': 175,\n",
       " 'jeff': 176,\n",
       " 'genom': 177,\n",
       " 'watch': 178,\n",
       " 'carmelit': 179,\n",
       " 'disadvantag': 180,\n",
       " 'plotinus': 181,\n",
       " 'empir': 182,\n",
       " 'rapid': 183,\n",
       " 'beatifi': 184,\n",
       " 'immedi': 185,\n",
       " 'plight': 186,\n",
       " 'accumul': 187,\n",
       " 'codic': 188,\n",
       " 'leo': 189,\n",
       " 'clean': 190,\n",
       " 'salem': 191,\n",
       " 'littl': 192,\n",
       " 'violat': 193,\n",
       " 'club': 194,\n",
       " 'virgo': 195,\n",
       " 'hal': 196,\n",
       " 'comic': 197,\n",
       " 'address': 198,\n",
       " 'provoc': 199,\n",
       " 'hast': 200,\n",
       " 'specious': 201,\n",
       " 'cornerston': 202,\n",
       " 'amorth': 203,\n",
       " 'ident': 204,\n",
       " 'rude': 205,\n",
       " 'tgc': 206,\n",
       " 'successor': 207,\n",
       " 'diaspora': 208,\n",
       " 'success': 209,\n",
       " 'estat': 210,\n",
       " 'pam': 211,\n",
       " 'shatter': 212,\n",
       " 'premort': 213,\n",
       " 'clever': 214,\n",
       " 'iran': 215,\n",
       " 'hath': 216,\n",
       " 'inst': 217,\n",
       " 'abortifaci': 218,\n",
       " 'divers': 219,\n",
       " 'destroy': 220,\n",
       " 'hardship': 221,\n",
       " 'ownership': 222,\n",
       " 'cancer': 223,\n",
       " 'jess': 224,\n",
       " 'sceptr': 225,\n",
       " 'confesseth': 226,\n",
       " 'career': 227,\n",
       " 'centuri': 228,\n",
       " 'coward': 229,\n",
       " 'group': 230,\n",
       " 'revolutionari': 231,\n",
       " 'persuas': 232,\n",
       " 'theist': 233,\n",
       " 'skin': 234,\n",
       " 'neanderth': 235,\n",
       " 'neo': 236,\n",
       " 'websit': 237,\n",
       " 'meticul': 238,\n",
       " 'anaesthesia': 239,\n",
       " 'feel': 240,\n",
       " 'nefesh': 241,\n",
       " 'dilut': 242,\n",
       " 'typo': 243,\n",
       " 'abort': 244,\n",
       " '2nd': 245,\n",
       " 'societi': 246,\n",
       " 'swept': 247,\n",
       " 'macedonian': 248,\n",
       " 'conceal': 249,\n",
       " 'douay': 250,\n",
       " 'polyth': 251,\n",
       " 'evidenc': 252,\n",
       " 'syllabus': 253,\n",
       " 'asterisk': 254,\n",
       " 'claim': 255,\n",
       " 'fallibl': 256,\n",
       " 'green': 257,\n",
       " 'idiot': 258,\n",
       " 'indetermin': 259,\n",
       " 'yield': 260,\n",
       " 'director': 261,\n",
       " 'regul': 262,\n",
       " 'chao': 263,\n",
       " 'monikamichael': 264,\n",
       " 'inventori': 265,\n",
       " 'persecut': 266,\n",
       " 'hinnom': 267,\n",
       " 'farmer': 268,\n",
       " 'lunat': 269,\n",
       " 'seeth': 270,\n",
       " 'munificentissimus': 271,\n",
       " 'proselyt': 272,\n",
       " 'fort': 273,\n",
       " 'geologist': 274,\n",
       " 'richard': 275,\n",
       " 'overthrow': 276,\n",
       " 'barbarian': 277,\n",
       " 'uniqu': 278,\n",
       " 'treacher': 279,\n",
       " 'cliff': 280,\n",
       " 'edinburgh': 281,\n",
       " 'overlap': 282,\n",
       " 'sarcasm': 283,\n",
       " 'law': 284,\n",
       " 'central': 285,\n",
       " 'ungrat': 286,\n",
       " 'brimston': 287,\n",
       " 'thier': 288,\n",
       " 'imageri': 289,\n",
       " 'japheth': 290,\n",
       " 'treat': 291,\n",
       " 'extrem': 292,\n",
       " 'agenc': 293,\n",
       " 'cave': 294,\n",
       " 'mous': 295,\n",
       " 'ben': 296,\n",
       " 'sourc': 297,\n",
       " 'forehead': 298,\n",
       " 'avatar': 299,\n",
       " 'ryanfram': 300,\n",
       " 'pavel': 301,\n",
       " 'undermin': 302,\n",
       " 'advertis': 303,\n",
       " 'hypothes': 304,\n",
       " 'enemi': 305,\n",
       " 'cambridg': 306,\n",
       " 'propitiatori': 307,\n",
       " 'unwis': 308,\n",
       " 'sententia': 309,\n",
       " 'signific': 310,\n",
       " 'concubinag': 311,\n",
       " 'compris': 312,\n",
       " 'pig': 313,\n",
       " 'synagogu': 314,\n",
       " 'reaction': 315,\n",
       " 'junia': 316,\n",
       " 'hinduism': 317,\n",
       " 'shallow': 318,\n",
       " 'babylonian': 319,\n",
       " 'prayer': 320,\n",
       " 'peshitta': 321,\n",
       " 'rtb': 322,\n",
       " 'bauer': 323,\n",
       " 'made': 324,\n",
       " 'conduct': 325,\n",
       " 'misunderstand': 326,\n",
       " 'buddhist': 327,\n",
       " 'trig': 328,\n",
       " 'elud': 329,\n",
       " 'christoph': 330,\n",
       " 'volunt': 331,\n",
       " 'constantinopl': 332,\n",
       " 'percept': 333,\n",
       " 'plea': 334,\n",
       " 'polygami': 335,\n",
       " 'fresh': 336,\n",
       " 'acc': 337,\n",
       " 'meaning': 338,\n",
       " 'transport': 339,\n",
       " 'behemoth': 340,\n",
       " 'benefactor': 341,\n",
       " 'hanukkah': 342,\n",
       " 'deign': 343,\n",
       " 'reestablish': 344,\n",
       " 'pragmat': 345,\n",
       " 'transsexu': 346,\n",
       " 'courtyard': 347,\n",
       " 'tale': 348,\n",
       " 'chastis': 349,\n",
       " 'color': 350,\n",
       " 'assist': 351,\n",
       " 'mind': 352,\n",
       " 'monoth': 353,\n",
       " 'exempt': 354,\n",
       " 'donor': 355,\n",
       " 'monothelit': 356,\n",
       " 'nice': 357,\n",
       " 'hesit': 358,\n",
       " 'pentecost': 359,\n",
       " 'competitor': 360,\n",
       " 'rank': 361,\n",
       " 'hunt': 362,\n",
       " 'credul': 363,\n",
       " 'sacr': 364,\n",
       " 'eleph': 365,\n",
       " 'saecula': 366,\n",
       " 'fiat': 367,\n",
       " 'owen': 368,\n",
       " 'resent': 369,\n",
       " 'lector': 370,\n",
       " 'admir': 371,\n",
       " 'nihilist': 372,\n",
       " 'annex': 373,\n",
       " 'distort': 374,\n",
       " 'irrespect': 375,\n",
       " 'itali': 376,\n",
       " 'syllabl': 377,\n",
       " 'motto': 378,\n",
       " 'schedul': 379,\n",
       " 'folio': 380,\n",
       " 'pantheism': 381,\n",
       " 'warrant': 382,\n",
       " 'australian': 383,\n",
       " 'minim': 384,\n",
       " 'note': 385,\n",
       " 'buck': 386,\n",
       " 'neck': 387,\n",
       " 'militari': 388,\n",
       " 'foretast': 389,\n",
       " 'fame': 390,\n",
       " 'florenc': 391,\n",
       " 'mutil': 392,\n",
       " 'ass': 393,\n",
       " 'scheme': 394,\n",
       " 'offer': 395,\n",
       " 'poke': 396,\n",
       " 'lesson': 397,\n",
       " 'ful': 398,\n",
       " 'cherub': 399,\n",
       " 'nicola': 400,\n",
       " 'ccc': 401,\n",
       " 'tent': 402,\n",
       " 'rhetor': 403,\n",
       " 'script': 404,\n",
       " 'friendship': 405,\n",
       " 'metzger': 406,\n",
       " 'centr': 407,\n",
       " 'pontius': 408,\n",
       " 'numerolog': 409,\n",
       " 'tacit': 410,\n",
       " 'reproduc': 411,\n",
       " 'irrefut': 412,\n",
       " 'adversari': 413,\n",
       " 'wrest': 414,\n",
       " 'lobbi': 415,\n",
       " 'zosimus': 416,\n",
       " 'irrespons': 417,\n",
       " 'dread': 418,\n",
       " 'predic': 419,\n",
       " 'split': 420,\n",
       " 'eas': 421,\n",
       " 'myrrh': 422,\n",
       " 'side': 423,\n",
       " 'fulli': 424,\n",
       " 'scholastic': 425,\n",
       " 'watchtow': 426,\n",
       " 'extent': 427,\n",
       " 'rang': 428,\n",
       " 'tomb': 429,\n",
       " 'design': 430,\n",
       " 'oversimplif': 431,\n",
       " 'cens': 432,\n",
       " 'splendor': 433,\n",
       " 'groan': 434,\n",
       " 'carrier': 435,\n",
       " 'darbi': 436,\n",
       " 'sinc': 437,\n",
       " 'tullian': 438,\n",
       " 'benign': 439,\n",
       " 'goddess': 440,\n",
       " 'chicken': 441,\n",
       " 'prick': 442,\n",
       " 'bump': 443,\n",
       " 'redactor': 444,\n",
       " 'ananus': 445,\n",
       " 'clang': 446,\n",
       " 'misguid': 447,\n",
       " 'prophesi': 448,\n",
       " 'bee': 449,\n",
       " 'margin': 450,\n",
       " 'britain': 451,\n",
       " 'paradigm': 452,\n",
       " 'comfort': 453,\n",
       " 'adapt': 454,\n",
       " 'rainbow': 455,\n",
       " 'joram': 456,\n",
       " 'hedg': 457,\n",
       " 'inquiri': 458,\n",
       " 'franc': 459,\n",
       " 'estrang': 460,\n",
       " 'orphanag': 461,\n",
       " 'damn': 462,\n",
       " 'van': 463,\n",
       " 'montanist': 464,\n",
       " 'dot': 465,\n",
       " 'saxon': 466,\n",
       " 'obtain': 467,\n",
       " 'proverbi': 468,\n",
       " 'encompass': 469,\n",
       " 'reveng': 470,\n",
       " 'georgian': 471,\n",
       " 'mainstream': 472,\n",
       " 'geographi': 473,\n",
       " 'noteworthi': 474,\n",
       " 'archdioces': 475,\n",
       " 'premis': 476,\n",
       " 'detach': 477,\n",
       " 'cymbal': 478,\n",
       " 'undesir': 479,\n",
       " 'inlin': 480,\n",
       " 'clandestin': 481,\n",
       " 'kevin': 482,\n",
       " 'muscl': 483,\n",
       " 'pass': 484,\n",
       " 'pour': 485,\n",
       " 'oppon': 486,\n",
       " 'episcopalian': 487,\n",
       " 'capac': 488,\n",
       " 'dictionnair': 489,\n",
       " 'philemon': 490,\n",
       " 'disassoci': 491,\n",
       " 'unquench': 492,\n",
       " 'moo': 493,\n",
       " 'disun': 494,\n",
       " 'screw': 495,\n",
       " 'compar': 496,\n",
       " 'carriag': 497,\n",
       " 'proceed': 498,\n",
       " 'outreach': 499,\n",
       " 'beelzebul': 500,\n",
       " 'session': 501,\n",
       " 'overrul': 502,\n",
       " 'unseen': 503,\n",
       " 'burn': 504,\n",
       " 'rebelli': 505,\n",
       " 'uncircumcis': 506,\n",
       " 'betroth': 507,\n",
       " 'talk': 508,\n",
       " 'youtub': 509,\n",
       " 'disprov': 510,\n",
       " 'calvinist': 511,\n",
       " 'constraint': 512,\n",
       " 'overcometh': 513,\n",
       " 'formula': 514,\n",
       " 'clinic': 515,\n",
       " 'bould': 516,\n",
       " 'obliter': 517,\n",
       " 'arba': 518,\n",
       " 'lesser': 519,\n",
       " 'crisi': 520,\n",
       " 'park': 521,\n",
       " 'consumm': 522,\n",
       " 'brush': 523,\n",
       " 'muratorian': 524,\n",
       " 'tobit': 525,\n",
       " 'unsur': 526,\n",
       " 'theocraci': 527,\n",
       " 'muse': 528,\n",
       " 'eze': 529,\n",
       " 'capella': 530,\n",
       " 'fluent': 531,\n",
       " 'cann': 532,\n",
       " 'damag': 533,\n",
       " 'chiefli': 534,\n",
       " 'print': 535,\n",
       " '1960s': 536,\n",
       " 'collect': 537,\n",
       " 'dominici': 538,\n",
       " 'evolv': 539,\n",
       " 'score': 540,\n",
       " 'denot': 541,\n",
       " 'pregnanc': 542,\n",
       " 'measur': 543,\n",
       " 'unanim': 544,\n",
       " 'influx': 545,\n",
       " 'total': 546,\n",
       " 'ordeal': 547,\n",
       " 'mid': 548,\n",
       " 'des': 549,\n",
       " 'gird': 550,\n",
       " 'photo': 551,\n",
       " 'mark': 552,\n",
       " 'myth': 553,\n",
       " 'prior': 554,\n",
       " 'fractur': 555,\n",
       " 'preposit': 556,\n",
       " 'piraci': 557,\n",
       " 'honorif': 558,\n",
       " 'colour': 559,\n",
       " 'qur': 560,\n",
       " 'broil': 561,\n",
       " 'interced': 562,\n",
       " 'abduct': 563,\n",
       " 'copi': 564,\n",
       " 'remembr': 565,\n",
       " 'lyon': 566,\n",
       " 'spectacular': 567,\n",
       " 'vestment': 568,\n",
       " 'stun': 569,\n",
       " 'timothi': 570,\n",
       " 'pilgrimag': 571,\n",
       " 'chemistri': 572,\n",
       " 'hagar': 573,\n",
       " 'zwing': 574,\n",
       " 'nullifi': 575,\n",
       " 'compass': 576,\n",
       " 'nobl': 577,\n",
       " 'babylon': 578,\n",
       " 'antityp': 579,\n",
       " 'shiloh': 580,\n",
       " 'undo': 581,\n",
       " 'wretch': 582,\n",
       " 'pseudepigraph': 583,\n",
       " 'paceri': 584,\n",
       " 'assign': 585,\n",
       " 'annoy': 586,\n",
       " 'lingua': 587,\n",
       " 'proof': 588,\n",
       " 'bowel': 589,\n",
       " 'thou': 590,\n",
       " 'snarki': 591,\n",
       " 'jws': 592,\n",
       " 'enlighten': 593,\n",
       " 'hope': 594,\n",
       " 'nephi': 595,\n",
       " 'expositor': 596,\n",
       " 'concern': 597,\n",
       " 'prone': 598,\n",
       " 'canada': 599,\n",
       " 'conqueror': 600,\n",
       " 'budget': 601,\n",
       " 'magnet': 602,\n",
       " 'sinless': 603,\n",
       " 'pejor': 604,\n",
       " 'gott': 605,\n",
       " 'marvel': 606,\n",
       " 'copyright': 607,\n",
       " 'therapeut': 608,\n",
       " 'tame': 609,\n",
       " 'simon': 610,\n",
       " 'depos': 611,\n",
       " 'unorthodox': 612,\n",
       " 'account': 613,\n",
       " 'drank': 614,\n",
       " 'poster': 615,\n",
       " 'launch': 616,\n",
       " 'slack': 617,\n",
       " 'sharper': 618,\n",
       " 'uncompromis': 619,\n",
       " 'compli': 620,\n",
       " 'hundr': 621,\n",
       " 'forsak': 622,\n",
       " 'unlearn': 623,\n",
       " 'sharer': 624,\n",
       " 'hallmark': 625,\n",
       " 'propaganda': 626,\n",
       " 'giveth': 627,\n",
       " 'halakha': 628,\n",
       " 'sepher': 629,\n",
       " 'parishion': 630,\n",
       " 'belial': 631,\n",
       " 'laugh': 632,\n",
       " 'isaac': 633,\n",
       " 'robertson': 634,\n",
       " 'bruno': 635,\n",
       " 'gari': 636,\n",
       " 'bed': 637,\n",
       " 'fertilis': 638,\n",
       " 'radiat': 639,\n",
       " 'viewer': 640,\n",
       " 'rational': 641,\n",
       " 'sodom': 642,\n",
       " 'peac': 643,\n",
       " 'locket': 644,\n",
       " 'elia': 645,\n",
       " 'sharp': 646,\n",
       " 'rebirth': 647,\n",
       " 'contempl': 648,\n",
       " 'comprehend': 649,\n",
       " 'semblanc': 650,\n",
       " 'filial': 651,\n",
       " 'ironi': 652,\n",
       " 'sacrileg': 653,\n",
       " 'prodig': 654,\n",
       " 'subordinationist': 655,\n",
       " 'ahab': 656,\n",
       " 'key': 657,\n",
       " 'latch': 658,\n",
       " 'ware': 659,\n",
       " 'intuit': 660,\n",
       " 'parti': 661,\n",
       " 'comp': 662,\n",
       " 'defianc': 663,\n",
       " 'incredul': 664,\n",
       " 'patienc': 665,\n",
       " 'whereon': 666,\n",
       " 'cloak': 667,\n",
       " 'percent': 668,\n",
       " 'poetri': 669,\n",
       " 'manasseh': 670,\n",
       " 'cast': 671,\n",
       " 'surmis': 672,\n",
       " 'frequent': 673,\n",
       " 'tower': 674,\n",
       " 'mayb': 675,\n",
       " 'slight': 676,\n",
       " 'stare': 677,\n",
       " 'hebron': 678,\n",
       " 'departur': 679,\n",
       " 'protect': 680,\n",
       " 'arcana': 681,\n",
       " 'forger': 682,\n",
       " 'embed': 683,\n",
       " 'player': 684,\n",
       " 'asian': 685,\n",
       " 'intercess': 686,\n",
       " 'celesti': 687,\n",
       " 'clearest': 688,\n",
       " 'verbum': 689,\n",
       " 'dss': 690,\n",
       " 'outnumb': 691,\n",
       " 'regener': 692,\n",
       " 'restaur': 693,\n",
       " 'termin': 694,\n",
       " 'heal': 695,\n",
       " 'foot': 696,\n",
       " 'oftentim': 697,\n",
       " 'compromis': 698,\n",
       " 'theoriz': 699,\n",
       " 'segment': 700,\n",
       " 'russia': 701,\n",
       " 'knew': 702,\n",
       " 'politician': 703,\n",
       " 'breach': 704,\n",
       " 'ecumen': 705,\n",
       " 'user1361315': 706,\n",
       " 'mani': 707,\n",
       " 'stronger': 708,\n",
       " 'signatur': 709,\n",
       " 'begin': 710,\n",
       " 'overcom': 711,\n",
       " 'needi': 712,\n",
       " 'alter': 713,\n",
       " 'slept': 714,\n",
       " 'narrowli': 715,\n",
       " 'forese': 716,\n",
       " 'met': 717,\n",
       " 'ongo': 718,\n",
       " 'catholica': 719,\n",
       " 'yup': 720,\n",
       " 'idiomat': 721,\n",
       " 'deeper': 722,\n",
       " 'ott': 723,\n",
       " 'ala': 724,\n",
       " 'intercal': 725,\n",
       " 'faulti': 726,\n",
       " 'leviticus': 727,\n",
       " 'consol': 728,\n",
       " 'wear': 729,\n",
       " 'biblica': 730,\n",
       " 'signal': 731,\n",
       " 'curtain': 732,\n",
       " 'client': 733,\n",
       " 'borrow': 734,\n",
       " 'unfit': 735,\n",
       " 'remark': 736,\n",
       " 'shi': 737,\n",
       " 'train': 738,\n",
       " 'monergist': 739,\n",
       " 'con': 740,\n",
       " 'nourish': 741,\n",
       " 'alypius': 742,\n",
       " 'cessat': 743,\n",
       " 'martyrdom': 744,\n",
       " 'amiss': 745,\n",
       " 'artwork': 746,\n",
       " 'defiant': 747,\n",
       " 'isol': 748,\n",
       " 'sea': 749,\n",
       " 'merci': 750,\n",
       " 'link': 751,\n",
       " 'optatus': 752,\n",
       " 'latin': 753,\n",
       " 'texa': 754,\n",
       " 'distanc': 755,\n",
       " 'gather': 756,\n",
       " 'specifi': 757,\n",
       " 'northern': 758,\n",
       " 'comer': 759,\n",
       " 'catech': 760,\n",
       " 'ordo': 761,\n",
       " 'famin': 762,\n",
       " 'isidor': 763,\n",
       " 'headship': 764,\n",
       " 'inequ': 765,\n",
       " 'alarm': 766,\n",
       " 'spade': 767,\n",
       " 'shine': 768,\n",
       " 'aland': 769,\n",
       " 'dull': 770,\n",
       " 'hort': 771,\n",
       " 'articul': 772,\n",
       " 'alongsid': 773,\n",
       " 'allot': 774,\n",
       " 'abbess': 775,\n",
       " 'lightfoot': 776,\n",
       " 'irenaeus': 777,\n",
       " 'hunch': 778,\n",
       " 'preponder': 779,\n",
       " 'erot': 780,\n",
       " 'toe': 781,\n",
       " 'matur': 782,\n",
       " 'prefect': 783,\n",
       " 'refer': 784,\n",
       " 'recruit': 785,\n",
       " 'expertis': 786,\n",
       " 'seper': 787,\n",
       " 'jhn': 788,\n",
       " 'gluttoni': 789,\n",
       " 'prolif': 790,\n",
       " 'seminari': 791,\n",
       " 'ylt': 792,\n",
       " 'yom': 793,\n",
       " 'puriti': 794,\n",
       " 'pseudosci': 795,\n",
       " '1corinthian': 796,\n",
       " 'jas3': 797,\n",
       " 'particip': 798,\n",
       " 'cohabit': 799,\n",
       " 'falsifi': 800,\n",
       " 'shroud': 801,\n",
       " 'sneez': 802,\n",
       " 'curia': 803,\n",
       " 'spiritus': 804,\n",
       " 'factor': 805,\n",
       " 'furnitur': 806,\n",
       " 'reverend': 807,\n",
       " 'deathb': 808,\n",
       " 'support': 809,\n",
       " 'inferno': 810,\n",
       " 'calf': 811,\n",
       " 'jepd': 812,\n",
       " 'dick': 813,\n",
       " 'medic': 814,\n",
       " 'degener': 815,\n",
       " 'stall': 816,\n",
       " 'food': 817,\n",
       " 'gaudium': 818,\n",
       " 'hasti': 819,\n",
       " 'motu': 820,\n",
       " 'revis': 821,\n",
       " 'health': 822,\n",
       " 'scorn': 823,\n",
       " 'impart': 824,\n",
       " 'call': 825,\n",
       " 'hamor': 826,\n",
       " 'exhaust': 827,\n",
       " 'earn': 828,\n",
       " 'temper': 829,\n",
       " 'makeup': 830,\n",
       " 'voter': 831,\n",
       " 'coloni': 832,\n",
       " 'diacon': 833,\n",
       " 'bypass': 834,\n",
       " 'fuss': 835,\n",
       " 'consequenti': 836,\n",
       " 'villain': 837,\n",
       " 'amo': 838,\n",
       " 'exagger': 839,\n",
       " 'griev': 840,\n",
       " 'weep': 841,\n",
       " 'whitefield': 842,\n",
       " 'geisler': 843,\n",
       " 'russel': 844,\n",
       " 'tolstoy': 845,\n",
       " 'liber': 846,\n",
       " 'oliv': 847,\n",
       " 'loaf': 848,\n",
       " 'end': 849,\n",
       " 'worri': 850,\n",
       " 'bridal': 851,\n",
       " 'allegi': 852,\n",
       " 'terrifi': 853,\n",
       " 'binitarian': 854,\n",
       " 'uproot': 855,\n",
       " 'generic': 856,\n",
       " 'inherit': 857,\n",
       " 'foretel': 858,\n",
       " 'lawyer': 859,\n",
       " 'plagu': 860,\n",
       " 'sit': 861,\n",
       " 'breakfast': 862,\n",
       " 'tripartit': 863,\n",
       " 'fundament': 864,\n",
       " 'sickl': 865,\n",
       " 'gregmcnulti': 866,\n",
       " 'enlist': 867,\n",
       " 'roof': 868,\n",
       " 'idyl': 869,\n",
       " 'emul': 870,\n",
       " 'tetrarch': 871,\n",
       " 'offend': 872,\n",
       " 'hindranc': 873,\n",
       " 'prejudic': 874,\n",
       " 'suprem': 875,\n",
       " 'unambigu': 876,\n",
       " 'stage': 877,\n",
       " 'common': 878,\n",
       " 'citizenship': 879,\n",
       " 'talmud': 880,\n",
       " 'valentinian': 881,\n",
       " 'isbn': 882,\n",
       " 'youngest': 883,\n",
       " 'nontrinitarian': 884,\n",
       " 'malevol': 885,\n",
       " 'archangel': 886,\n",
       " 'movi': 887,\n",
       " 'captain': 888,\n",
       " 'review': 889,\n",
       " 'hypostat': 890,\n",
       " 'herd': 891,\n",
       " 'navig': 892,\n",
       " 'solar': 893,\n",
       " 'luminari': 894,\n",
       " 'passeng': 895,\n",
       " 'genealog': 896,\n",
       " 'tragedi': 897,\n",
       " 'unreal': 898,\n",
       " 'theophylact': 899,\n",
       " 'rumour': 900,\n",
       " 'seiz': 901,\n",
       " 'kingdom': 902,\n",
       " 'dissolut': 903,\n",
       " 'outcri': 904,\n",
       " 'artifici': 905,\n",
       " 'aris': 906,\n",
       " 'preview': 907,\n",
       " 'pun': 908,\n",
       " 'cow': 909,\n",
       " 'nazarit': 910,\n",
       " 'muslim': 911,\n",
       " 'chart': 912,\n",
       " 'robber': 913,\n",
       " 'whilst': 914,\n",
       " 'sinaiticus': 915,\n",
       " 'carson': 916,\n",
       " 'pair': 917,\n",
       " 'bench': 918,\n",
       " 'fortun': 919,\n",
       " 'enchiridion': 920,\n",
       " 'homosexu': 921,\n",
       " 'staff': 922,\n",
       " 'eman': 923,\n",
       " 'raw': 924,\n",
       " 'discourag': 925,\n",
       " 'smash': 926,\n",
       " 'infant': 927,\n",
       " 'rebekah': 928,\n",
       " 'fifti': 929,\n",
       " 'theori': 930,\n",
       " 'vanquish': 931,\n",
       " 'knoweth': 932,\n",
       " 'exalteth': 933,\n",
       " 'jps': 934,\n",
       " 'conclav': 935,\n",
       " 'prototyp': 936,\n",
       " 'transplant': 937,\n",
       " 'interim': 938,\n",
       " 'forfeit': 939,\n",
       " 'gordon': 940,\n",
       " 'exceed': 941,\n",
       " 'reduc': 942,\n",
       " 'row': 943,\n",
       " 'extend': 944,\n",
       " 'mediev': 945,\n",
       " 'close': 946,\n",
       " 'brake': 947,\n",
       " 'unsav': 948,\n",
       " 'undu': 949,\n",
       " 'focal': 950,\n",
       " 'replica': 951,\n",
       " 'germ': 952,\n",
       " 'apocatastasi': 953,\n",
       " 'museum': 954,\n",
       " 'complex': 955,\n",
       " 'classroom': 956,\n",
       " 'mortal': 957,\n",
       " 'packer': 958,\n",
       " 'unfortun': 959,\n",
       " 'paradox': 960,\n",
       " 'zeal': 961,\n",
       " 'apostleship': 962,\n",
       " 'galileo': 963,\n",
       " 'dump': 964,\n",
       " 'uneduc': 965,\n",
       " 'rejoic': 966,\n",
       " 'hezekiah': 967,\n",
       " 'upper': 968,\n",
       " 'pseudepigrapha': 969,\n",
       " 'ray': 970,\n",
       " 'carol': 971,\n",
       " 'nut': 972,\n",
       " 'chapter': 973,\n",
       " 'check': 974,\n",
       " 'historicist': 975,\n",
       " 'loath': 976,\n",
       " 'bloodi': 977,\n",
       " 'weaken': 978,\n",
       " 'understandeth': 979,\n",
       " 'gregorian': 980,\n",
       " 'unpunish': 981,\n",
       " 'canon': 982,\n",
       " 'rejoin': 983,\n",
       " 'cryptic': 984,\n",
       " 'record': 985,\n",
       " 'flat': 986,\n",
       " 'involuntari': 987,\n",
       " 'doug': 988,\n",
       " 'aaron': 989,\n",
       " 'seraph': 990,\n",
       " 'swell': 991,\n",
       " 'amidst': 992,\n",
       " 'patri': 993,\n",
       " 'apparit': 994,\n",
       " 'jonah': 995,\n",
       " 'varianc': 996,\n",
       " 'presbyt': 997,\n",
       " 'altar': 998,\n",
       " 'dismay': 999,\n",
       " 'unleash': 1000,\n",
       " ...}"
      ]
     },
     "execution_count": 125,
     "metadata": {},
     "output_type": "execute_result"
    }
   ],
   "source": [
    "w_dic"
   ]
  },
  {
   "cell_type": "code",
   "execution_count": 3,
   "metadata": {},
   "outputs": [],
   "source": [
    "import pickle\n",
    "#with open('word_dictionary2.pickle', 'wb') as handle:\n",
    "    #pickle.dump(w_dic, handle, protocol=pickle.HIGHEST_PROTOCOL)"
   ]
  },
  {
   "cell_type": "code",
   "execution_count": 4,
   "metadata": {},
   "outputs": [],
   "source": [
    "with open('word_dictionary2.pickle', 'rb') as reader:\n",
    "    w_dic_load = pickle.load(reader)"
   ]
  },
  {
   "cell_type": "code",
   "execution_count": 5,
   "metadata": {},
   "outputs": [
    {
     "data": {
      "text/plain": [
       "9422"
      ]
     },
     "execution_count": 5,
     "metadata": {},
     "output_type": "execute_result"
    }
   ],
   "source": [
    "len(w_dic_load)"
   ]
  },
  {
   "cell_type": "code",
   "execution_count": 128,
   "metadata": {},
   "outputs": [],
   "source": [
    "w_dic=w_dic_load"
   ]
  },
  {
   "cell_type": "code",
   "execution_count": 17,
   "metadata": {},
   "outputs": [],
   "source": [
    "def convert_to_int(words):\n",
    "    converted=[]\n",
    "    for w in words:\n",
    "        if w in w_dic:\n",
    "            converted.append(w_dic[w])\n",
    "    return converted   "
   ]
  },
  {
   "cell_type": "code",
   "execution_count": 135,
   "metadata": {},
   "outputs": [],
   "source": [
    "data_conv =[]\n",
    "for item in alltext:\n",
    "    data_conv.append(convert_to_int(item))\n"
   ]
  },
  {
   "cell_type": "code",
   "execution_count": 65,
   "metadata": {},
   "outputs": [],
   "source": [
    "#with open('data_splits2.pickle', 'rb') as reader:\n",
    "    #full_loaded_splits = pickle.load(reader)"
   ]
  },
  {
   "cell_type": "code",
   "execution_count": 84,
   "metadata": {},
   "outputs": [
    {
     "name": "stderr",
     "output_type": "stream",
     "text": [
      "IOPub data rate exceeded.\n",
      "The notebook server will temporarily stop sending output\n",
      "to the client in order to avoid crashing it.\n",
      "To change this limit, set the config variable\n",
      "`--NotebookApp.iopub_data_rate_limit`.\n",
      "\n",
      "Current values:\n",
      "NotebookApp.iopub_data_rate_limit=1000000.0 (bytes/sec)\n",
      "NotebookApp.rate_limit_window=3.0 (secs)\n",
      "\n"
     ]
    }
   ],
   "source": [
    "x_Train22= get_transformed_data(x_Test)"
   ]
  },
  {
   "cell_type": "code",
   "execution_count": 94,
   "metadata": {},
   "outputs": [
    {
     "data": {
      "text/plain": [
       "7221"
      ]
     },
     "execution_count": 94,
     "metadata": {},
     "output_type": "execute_result"
    }
   ],
   "source": [
    "len(x_Test)"
   ]
  },
  {
   "cell_type": "code",
   "execution_count": 90,
   "metadata": {},
   "outputs": [
    {
     "name": "stdout",
     "output_type": "stream",
     "text": [
      "year histor record church rome church impos tradit note simpli factual record date histori make inquiri church rome\n"
     ]
    }
   ],
   "source": [
    "print(x_Test.iloc[0])"
   ]
  },
  {
   "cell_type": "code",
   "execution_count": 92,
   "metadata": {},
   "outputs": [
    {
     "data": {
      "text/plain": [
       "8403"
      ]
     },
     "execution_count": 92,
     "metadata": {},
     "output_type": "execute_result"
    }
   ],
   "source": [
    "w_dic[\"rome\"]"
   ]
  },
  {
   "cell_type": "code",
   "execution_count": 149,
   "metadata": {},
   "outputs": [
    {
     "name": "stdout",
     "output_type": "stream",
     "text": [
      "[1684 7800 8220 ...    0    0    0]\n",
      "['answer', 'sort', 'admonit', 'lie', 'explain', 'bear', 'destruct', 'fals', 'wit', 'point', 'ten', 'command', 'leav', 'answer', 'rule', 'lie', 'easili', 'refut', 'begin', 'exodus', 'midwiv', 'told', 'kill', 'jewish', 'boy', 'fear', 'god', 'live', 'tri', 'truth', 'hebrew', 'women', 'egyptian', 'women', 'vigor', 'deliv', 'midwif', 'real', 'verbal', 'tri', 'make', 'work', 'inevit', 'joshua', 'rahab', 'lie', 'servant', 'king', 'locat', 'jewish', 'spi', 'josh', 'count', 'good', 'thing', 'save', 'live', 'sam', 'david', 'deceiv', 'pretend', 'mad', 'outright', 'lie', 'hard', 'press', 'demonstr', 'distinct', 'christ', 'condemn', 'doubt', 'especi', 'sinc', 'exodus', 'god', 'dealt', 'midwiv', 'exo', 'rsv', 'question', 'becom', 'actual', 'prohibit', 'bibl', 'becom', 'ambigu', 'weight', 'scale', 'prov', 'lie', 'tongu', 'prov', 'prohibit', 'consid', 'god', 'condemn', 'decept', 'decept', 'aris', 'desir', 'profit', 'destruct', 'consid', 'forbidden', 'includ', 'white', 'lie', 'told', 'necessarili', 'matter', 'alway', 'sinc', 'becam', 'cathol', 'defer', 'chrysostom', 'treatis', 'priesthood', 'man', 'sudden', 'attack', 'fever', 'great', 'sever', 'burn', 'heat', 'increas', 'patient', 'reject', 'remedi', 'reduc', 'crave', 'pure', 'wine', 'passion', 'entreat', 'approach', 'give', 'enabl', 'dead', 'crave', 'dead', 'gratifi', 'request', 'fever', 'driven', 'unhappi', 'man', 'profession', 'skill', 'baffl', 'end', 'resourc', 'utter', 'thrown', 'step', 'display', 'power', 'relat', 'physician', 'earthen', 'cup', 'brought', 'straight', 'furnac', 'steep', 'wine', 'drew', 'empti', 'fill', 'water', 'order', 'chamber', 'sick', 'man', 'lay', 'darken', 'curtain', 'light', 'reveal', 'trick', 'gave', 'drink', 'pretend', 'fill', 'wine', 'man', 'hand', 'deceiv', 'smell', 'wait', 'examin', 'convinc', 'odor', 'deceiv', 'dark', 'eager', 'immedi', 'shook', 'feel', 'suffoc', 'escap', 'immin', 'peril', 'advantag', 'deceit', 'bibl', 'ambigu', 'biblic', 'text', 'church', 'guidanc', 'import', 'side', 'note', 'rememb', 'fals', 'wit', 'necessarili', 'lie', 'half', 'truth', 'gossip', 'destruct', 'imagin', 'someon', 'paul', 'enter', 'town', 'man', 'persecut', 'damag', 'church', 'trust', 'technic', 'paul', 'gave', 'tacit', 'endors', 'murder', 'reform', 'part', 'statement', 'true', 'part', 'complet', 'subject', 'truth', 'destruct', 'demonstr', 'complet', 'lack', 'chariti', '0url1']\n"
     ]
    }
   ],
   "source": [
    "print(data_conv_trunc[81000])\n",
    "print(alltext[81000])"
   ]
  },
  {
   "cell_type": "code",
   "execution_count": 134,
   "metadata": {},
   "outputs": [
    {
     "name": "stdout",
     "output_type": "stream",
     "text": [
      "1684\n"
     ]
    }
   ],
   "source": [
    "print(w_dic[\"answer\"])"
   ]
  },
  {
   "cell_type": "code",
   "execution_count": 136,
   "metadata": {},
   "outputs": [
    {
     "name": "stdout",
     "output_type": "stream",
     "text": [
      "(96269,)\n"
     ]
    }
   ],
   "source": [
    "data_conv= np.array(data_conv)\n",
    "print(data_conv.shape)"
   ]
  },
  {
   "cell_type": "code",
   "execution_count": 137,
   "metadata": {},
   "outputs": [],
   "source": [
    "from keras.preprocessing import sequence\n",
    "# pad\n",
    "data_conv_trunc= sequence.pad_sequences(data_conv,padding='post')"
   ]
  },
  {
   "cell_type": "code",
   "execution_count": 138,
   "metadata": {},
   "outputs": [],
   "source": [
    "#truncate to the first 350 words\n",
    "#data_conv_trunc= data_conv_trunc[:,:350]"
   ]
  },
  {
   "cell_type": "code",
   "execution_count": 139,
   "metadata": {},
   "outputs": [
    {
     "name": "stdout",
     "output_type": "stream",
     "text": [
      "254\n"
     ]
    }
   ],
   "source": [
    "print(len(data_conv[81000]))"
   ]
  },
  {
   "cell_type": "code",
   "execution_count": 140,
   "metadata": {},
   "outputs": [
    {
     "name": "stdout",
     "output_type": "stream",
     "text": [
      "1887\n"
     ]
    }
   ],
   "source": [
    "print(len(data_conv_trunc[81000]))"
   ]
  },
  {
   "cell_type": "code",
   "execution_count": 141,
   "metadata": {},
   "outputs": [
    {
     "name": "stdout",
     "output_type": "stream",
     "text": [
      "(96269, 1887)\n"
     ]
    }
   ],
   "source": [
    "print(data_conv_trunc.shape)"
   ]
  },
  {
   "cell_type": "code",
   "execution_count": 142,
   "metadata": {},
   "outputs": [
    {
     "data": {
      "text/plain": [
       "(96269, 10)"
      ]
     },
     "execution_count": 142,
     "metadata": {},
     "output_type": "execute_result"
    }
   ],
   "source": [
    "from keras.utils import np_utils\n",
    "labels = np.array(data[\"label\"])\n",
    "labels = np_utils.to_categorical(labels, num_classes=10)\n",
    "labels.shape"
   ]
  },
  {
   "cell_type": "code",
   "execution_count": 143,
   "metadata": {},
   "outputs": [],
   "source": [
    "from sklearn.model_selection import train_test_split\n",
    "x_Train, x_Test, y_Train,  y_Test= train_test_split(data_conv_trunc,labels, test_size=.15, stratify = labels, random_state=1)\n"
   ]
  },
  {
   "cell_type": "code",
   "execution_count": 144,
   "metadata": {},
   "outputs": [],
   "source": [
    "x_Val, x_Test, y_Val,  y_Test= train_test_split(x_Test,y_Test, test_size=.5)"
   ]
  },
  {
   "cell_type": "code",
   "execution_count": 145,
   "metadata": {},
   "outputs": [],
   "source": [
    "#save all splits\n",
    "all_split= {\"x_Train\":x_Train, \"x_Test\":x_Test, \"x_Val\":x_Val, \"y_Train\":y_Train, \"y_Val\":y_Val, \"y_Test\":y_Test  }\n",
    "with open('data_splits2.pickle', 'wb') as handle:\n",
    "    pickle.dump(all_split, handle, protocol=pickle.HIGHEST_PROTOCOL)\n"
   ]
  },
  {
   "cell_type": "code",
   "execution_count": 7,
   "metadata": {},
   "outputs": [],
   "source": [
    "#import pickle\n",
    "with open('data_splits2.pickle', 'rb') as reader:\n",
    "    loaded_splits = pickle.load(reader)"
   ]
  },
  {
   "cell_type": "code",
   "execution_count": 7,
   "metadata": {},
   "outputs": [],
   "source": [
    "#loaded_splits[\"x_Val\"].shape == x_Val.shape"
   ]
  },
  {
   "cell_type": "code",
   "execution_count": 14,
   "metadata": {},
   "outputs": [
    {
     "name": "stdout",
     "output_type": "stream",
     "text": [
      "(7220, 350) (7221, 350) (81828, 350)\n"
     ]
    }
   ],
   "source": [
    "x_Val=loaded_splits[\"x_Val\"][:,:350]\n",
    "x_Test=loaded_splits[\"x_Test\"][:,:350][:,:350]\n",
    "x_Train=loaded_splits[\"x_Train\"][:,:350]\n",
    "\n",
    "y_Val=loaded_splits[\"y_Val\"]\n",
    "y_Test=loaded_splits[\"y_Test\"]\n",
    "y_Train=loaded_splits[\"y_Train\"]\n",
    "print(x_Val.shape,x_Test.shape,x_Train.shape )"
   ]
  },
  {
   "cell_type": "code",
   "execution_count": 12,
   "metadata": {},
   "outputs": [
    {
     "ename": "SyntaxError",
     "evalue": "invalid syntax (<ipython-input-12-81600012a303>, line 1)",
     "output_type": "error",
     "traceback": [
      "\u001b[1;36m  File \u001b[1;32m\"<ipython-input-12-81600012a303>\"\u001b[1;36m, line \u001b[1;32m1\u001b[0m\n\u001b[1;33m    truncate to the first 350 words\u001b[0m\n\u001b[1;37m              ^\u001b[0m\n\u001b[1;31mSyntaxError\u001b[0m\u001b[1;31m:\u001b[0m invalid syntax\n"
     ]
    }
   ],
   "source": [
    "# truncate to the first 350 words\n",
    "# x_Val=x_Val[:,:350]\n",
    "# x_Test=x_Test[:,:350]\n",
    "# x_Train=x_Train[:,:350]\n",
    "\n",
    "# print(x_Val.shape,x_Test.shape,x_Train.shape )\n"
   ]
  },
  {
   "cell_type": "code",
   "execution_count": 10,
   "metadata": {},
   "outputs": [
    {
     "name": "stdout",
     "output_type": "stream",
     "text": [
      "_________________________________________________________________\n",
      "Layer (type)                 Output Shape              Param #   \n",
      "=================================================================\n",
      "embedding_2 (Embedding)      (None, 350, 32)           301536    \n",
      "_________________________________________________________________\n",
      "dropout_3 (Dropout)          (None, 350, 32)           0         \n",
      "_________________________________________________________________\n",
      "bidirectional_2 (Bidirection (None, 202)               108272    \n",
      "_________________________________________________________________\n",
      "dropout_4 (Dropout)          (None, 202)               0         \n",
      "_________________________________________________________________\n",
      "dense_2 (Dense)              (None, 10)                2030      \n",
      "=================================================================\n",
      "Total params: 411,838\n",
      "Trainable params: 411,838\n",
      "Non-trainable params: 0\n",
      "_________________________________________________________________\n",
      "None\n"
     ]
    }
   ],
   "source": [
    "from keras.layers import LSTM\n",
    "from keras import optimizers\n",
    "from keras.models import Sequential\n",
    "from keras.layers import Dense, Dropout, Bidirectional\n",
    "from keras.layers.embeddings import Embedding\n",
    "embedding_vecor_length = 32\n",
    "model = Sequential()\n",
    "model.add(Embedding(9422+1,32, input_length=350))\n",
    "model.add(Dropout(0.2))\n",
    "model.add(Bidirectional(LSTM(101)))\n",
    "model.add(Dropout(0.2))\n",
    "model.add(Dense(10, activation='softmax'))\n",
    "sgd = optimizers.SGD(lr=0.01, decay=1e-6, momentum=0.9, nesterov=True)\n",
    "model.compile(loss='categorical_crossentropy', optimizer=sgd, metrics=['accuracy'])\n",
    "\n",
    "print(model.summary())"
   ]
  },
  {
   "cell_type": "code",
   "execution_count": 18,
   "metadata": {},
   "outputs": [
    {
     "name": "stdout",
     "output_type": "stream",
     "text": [
      "Train on 81828 samples, validate on 7220 samples\n",
      "Epoch 1/25\n",
      "81828/81828 [==============================] - 1007s 12ms/step - loss: 1.8779 - acc: 0.3621 - val_loss: 1.7188 - val_acc: 0.3964\n",
      "\n",
      "Epoch 00001: val_loss improved from inf to 1.71883, saving model to model_birnn2.weights.best.hdf5\n",
      "Epoch 2/25\n",
      "81828/81828 [==============================] - 811s 10ms/step - loss: 1.5227 - acc: 0.4447 - val_loss: 1.4552 - val_acc: 0.4614\n",
      "\n",
      "Epoch 00002: val_loss improved from 1.71883 to 1.45525, saving model to model_birnn2.weights.best.hdf5\n",
      "Epoch 3/25\n",
      "81828/81828 [==============================] - 762s 9ms/step - loss: 1.3611 - acc: 0.4855 - val_loss: 1.3102 - val_acc: 0.5007\n",
      "\n",
      "Epoch 00003: val_loss improved from 1.45525 to 1.31022, saving model to model_birnn2.weights.best.hdf5\n",
      "Epoch 4/25\n",
      "81828/81828 [==============================] - 763s 9ms/step - loss: 1.2133 - acc: 0.5438 - val_loss: 1.1385 - val_acc: 0.5763\n",
      "\n",
      "Epoch 00004: val_loss improved from 1.31022 to 1.13849, saving model to model_birnn2.weights.best.hdf5\n",
      "Epoch 5/25\n",
      "81828/81828 [==============================] - 828s 10ms/step - loss: 1.0487 - acc: 0.6154 - val_loss: 0.9833 - val_acc: 0.6485\n",
      "\n",
      "Epoch 00005: val_loss improved from 1.13849 to 0.98330, saving model to model_birnn2.weights.best.hdf5\n",
      "Epoch 6/25\n",
      "81828/81828 [==============================] - 820s 10ms/step - loss: 0.9003 - acc: 0.6796 - val_loss: 0.8557 - val_acc: 0.6942\n",
      "\n",
      "Epoch 00006: val_loss improved from 0.98330 to 0.85571, saving model to model_birnn2.weights.best.hdf5\n",
      "Epoch 7/25\n",
      "81828/81828 [==============================] - 825s 10ms/step - loss: 0.7978 - acc: 0.7211 - val_loss: 0.7872 - val_acc: 0.7230\n",
      "\n",
      "Epoch 00007: val_loss improved from 0.85571 to 0.78721, saving model to model_birnn2.weights.best.hdf5\n",
      "Epoch 8/25\n",
      "81828/81828 [==============================] - 818s 10ms/step - loss: 0.7172 - acc: 0.7504 - val_loss: 0.7081 - val_acc: 0.7512\n",
      "\n",
      "Epoch 00008: val_loss improved from 0.78721 to 0.70807, saving model to model_birnn2.weights.best.hdf5\n",
      "Epoch 9/25\n",
      "81828/81828 [==============================] - 758s 9ms/step - loss: 0.6650 - acc: 0.7692 - val_loss: 0.6747 - val_acc: 0.7634\n",
      "\n",
      "Epoch 00009: val_loss improved from 0.70807 to 0.67474, saving model to model_birnn2.weights.best.hdf5\n",
      "Epoch 10/25\n",
      "81828/81828 [==============================] - 766s 9ms/step - loss: 0.6255 - acc: 0.7839 - val_loss: 0.6892 - val_acc: 0.7564\n",
      "\n",
      "Epoch 00010: val_loss did not improve from 0.67474\n",
      "Epoch 11/25\n",
      "81828/81828 [==============================] - 772s 9ms/step - loss: 0.5946 - acc: 0.7945 - val_loss: 0.6586 - val_acc: 0.7724\n",
      "\n",
      "Epoch 00011: val_loss improved from 0.67474 to 0.65862, saving model to model_birnn2.weights.best.hdf5\n",
      "Epoch 12/25\n",
      "81828/81828 [==============================] - 782s 10ms/step - loss: 0.5712 - acc: 0.8029 - val_loss: 0.6414 - val_acc: 0.7784\n",
      "\n",
      "Epoch 00012: val_loss improved from 0.65862 to 0.64145, saving model to model_birnn2.weights.best.hdf5\n",
      "Epoch 13/25\n",
      "81828/81828 [==============================] - 785s 10ms/step - loss: 0.5484 - acc: 0.8107 - val_loss: 0.6021 - val_acc: 0.7848\n",
      "\n",
      "Epoch 00013: val_loss improved from 0.64145 to 0.60210, saving model to model_birnn2.weights.best.hdf5\n",
      "Epoch 14/25\n",
      "81828/81828 [==============================] - 806s 10ms/step - loss: 0.5245 - acc: 0.8196 - val_loss: 0.6029 - val_acc: 0.7893\n",
      "\n",
      "Epoch 00014: val_loss did not improve from 0.60210\n",
      "Epoch 15/25\n",
      "81828/81828 [==============================] - 818s 10ms/step - loss: 0.5065 - acc: 0.8248 - val_loss: 0.5996 - val_acc: 0.7947\n",
      "\n",
      "Epoch 00015: val_loss improved from 0.60210 to 0.59955, saving model to model_birnn2.weights.best.hdf5\n",
      "Epoch 16/25\n",
      "81828/81828 [==============================] - 817s 10ms/step - loss: 0.4881 - acc: 0.8308 - val_loss: 0.5666 - val_acc: 0.8061\n",
      "\n",
      "Epoch 00016: val_loss improved from 0.59955 to 0.56662, saving model to model_birnn2.weights.best.hdf5\n",
      "Epoch 17/25\n",
      "81828/81828 [==============================] - 836s 10ms/step - loss: 0.4699 - acc: 0.8377 - val_loss: 0.5905 - val_acc: 0.7976\n",
      "\n",
      "Epoch 00017: val_loss did not improve from 0.56662\n",
      "Epoch 18/25\n",
      "81828/81828 [==============================] - 832s 10ms/step - loss: 0.4563 - acc: 0.8428 - val_loss: 0.5734 - val_acc: 0.8007\n",
      "\n",
      "Epoch 00018: val_loss did not improve from 0.56662\n",
      "Epoch 19/25\n",
      "81828/81828 [==============================] - 835s 10ms/step - loss: 0.4422 - acc: 0.8475 - val_loss: 0.5600 - val_acc: 0.8058\n",
      "\n",
      "Epoch 00019: val_loss improved from 0.56662 to 0.56002, saving model to model_birnn2.weights.best.hdf5\n",
      "Epoch 20/25\n",
      "81828/81828 [==============================] - 839s 10ms/step - loss: 0.4322 - acc: 0.8498 - val_loss: 0.5581 - val_acc: 0.8065\n",
      "\n",
      "Epoch 00020: val_loss improved from 0.56002 to 0.55812, saving model to model_birnn2.weights.best.hdf5\n",
      "Epoch 21/25\n",
      "81828/81828 [==============================] - 841s 10ms/step - loss: 0.4187 - acc: 0.8560 - val_loss: 0.5538 - val_acc: 0.8097\n",
      "\n",
      "Epoch 00021: val_loss improved from 0.55812 to 0.55376, saving model to model_birnn2.weights.best.hdf5\n",
      "Epoch 22/25\n",
      "81828/81828 [==============================] - 886s 11ms/step - loss: 0.4079 - acc: 0.8596 - val_loss: 0.5578 - val_acc: 0.8107\n",
      "\n",
      "Epoch 00022: val_loss did not improve from 0.55376\n",
      "Epoch 23/25\n",
      "81828/81828 [==============================] - 1066s 13ms/step - loss: 0.4001 - acc: 0.8625 - val_loss: 0.5424 - val_acc: 0.8141\n",
      "\n",
      "Epoch 00023: val_loss improved from 0.55376 to 0.54238, saving model to model_birnn2.weights.best.hdf5\n",
      "Epoch 24/25\n",
      "81828/81828 [==============================] - 1068s 13ms/step - loss: 0.3873 - acc: 0.8667 - val_loss: 0.5485 - val_acc: 0.8094\n",
      "\n",
      "Epoch 00024: val_loss did not improve from 0.54238\n",
      "Epoch 25/25\n",
      "81828/81828 [==============================] - 1059s 13ms/step - loss: 0.3815 - acc: 0.8687 - val_loss: 0.5679 - val_acc: 0.8102\n",
      "\n",
      "Epoch 00025: val_loss did not improve from 0.54238\n"
     ]
    }
   ],
   "source": [
    "from keras.callbacks import ModelCheckpoint\n",
    "from keras.callbacks import History\n",
    "hist= History()\n",
    "hist2= History()\n",
    "checkpointer = ModelCheckpoint(filepath='model_birnn2.weights.best.hdf5', verbose=1, \n",
    "                               save_best_only=True)\n",
    "hist2=model.fit(x_Train, y_Train, validation_data=(x_Val, y_Val), epochs=25, batch_size=64, callbacks=[checkpointer, hist])"
   ]
  },
  {
   "cell_type": "code",
   "execution_count": 19,
   "metadata": {},
   "outputs": [
    {
     "name": "stdout",
     "output_type": "stream",
     "text": [
      "7221/7221 [==============================] - 15s 2ms/step\n",
      "Accuracy: 80.70%\n"
     ]
    }
   ],
   "source": [
    "# load the weights that yielded the best validation accuracy\n",
    "#model.load_weights('model_birnn2.weights.best.hdf5')\n",
    "\n",
    "\n",
    "\n",
    "#Final evaluation of the model\n",
    "scores = model.evaluate(x_Test, y_Test, verbose=1)\n",
    "print(\"Accuracy: %.2f%%\" % (scores[1]*100))"
   ]
  },
  {
   "cell_type": "code",
   "execution_count": 35,
   "metadata": {},
   "outputs": [],
   "source": [
    "predictions= model.predict_classes(x_Test)"
   ]
  },
  {
   "cell_type": "code",
   "execution_count": 41,
   "metadata": {},
   "outputs": [],
   "source": [
    "y_Test_l=[]\n",
    "for label in y_Test:\n",
    "    y_Test_l.append(np.argmax(label))\n"
   ]
  },
  {
   "cell_type": "code",
   "execution_count": 42,
   "metadata": {},
   "outputs": [
    {
     "name": "stdout",
     "output_type": "stream",
     "text": [
      "              precision    recall  f1-score   support\n",
      "\n",
      "           0       0.87      0.83      0.85      1924\n",
      "           1       0.78      0.75      0.77       344\n",
      "           2       0.73      0.81      0.77       463\n",
      "           3       0.84      0.74      0.78       388\n",
      "           4       0.81      0.95      0.87      1190\n",
      "           5       0.76      0.75      0.75       631\n",
      "           6       0.74      0.76      0.75       729\n",
      "           7       0.88      0.68      0.77       663\n",
      "           8       0.77      0.80      0.78       445\n",
      "           9       0.78      0.79      0.79       444\n",
      "\n",
      "   micro avg       0.81      0.81      0.81      7221\n",
      "   macro avg       0.79      0.79      0.79      7221\n",
      "weighted avg       0.81      0.81      0.81      7221\n",
      "\n"
     ]
    }
   ],
   "source": [
    "from sklearn.metrics import classification_report\n",
    "print(classification_report(y_Test_l,predictions))"
   ]
  },
  {
   "cell_type": "code",
   "execution_count": 34,
   "metadata": {},
   "outputs": [
    {
     "data": {
      "text/plain": [
       "<matplotlib.legend.Legend at 0x19013ecccc0>"
      ]
     },
     "execution_count": 34,
     "metadata": {},
     "output_type": "execute_result"
    },
    {
     "data": {
      "image/png": "[encoded data removed]",
      "text/plain": [
       "<Figure size 432x288 with 1 Axes>"
      ]
     },
     "metadata": {},
     "output_type": "display_data"
    }
   ],
   "source": [
    "import matplotlib.pyplot as plt\n",
    "ax2 = plt.axes()\n",
    "ax2.set_title('Model Loss')\n",
    "ax2.set_ylabel('Loss')\n",
    "ax2.set_xlabel('Epoch')\n",
    "plt.plot(hist.history[\"val_loss\"], color='g')\n",
    "plt.plot(hist.history[\"loss\"],color='b')\n",
    "\n",
    "plt.gca().legend(('Validation','Train'))"
   ]
  },
  {
   "cell_type": "code",
   "execution_count": null,
   "metadata": {},
   "outputs": [],
   "source": [
    "# from keras.models import load_model\n",
    "# model = load_model('model.weights.best.hdf5')\n",
    "# model.fit(x_Train, y_Train, validation_data=(x_Val, y_Val), epochs=5, batch_size=64, callbacks=[checkpointer])\n"
   ]
  },
  {
   "cell_type": "code",
   "execution_count": 50,
   "metadata": {},
   "outputs": [],
   "source": [
    "#SAVE MODEL\n",
    "from keras.models import load_model\n",
    "model.save('my_model.h5')\n",
    "\n",
    "\n",
    "#In Json\n",
    "jsonModel = model.to_json()\n",
    "with open(\"model_rnn_bidir.json\", \"w\") as json_file:\n",
    "    json_file.write(jsonModel)"
   ]
  },
  {
   "cell_type": "code",
   "execution_count": 51,
   "metadata": {},
   "outputs": [
    {
     "name": "stdout",
     "output_type": "stream",
     "text": [
      "7221/7221 [==============================] - 13s 2ms/step\n",
      "accuracy on test set is:80.69519457469075\n"
     ]
    }
   ],
   "source": [
    "#test on current weights\n",
    "from keras.models import load_model\n",
    "model_loaded = load_model('my_model.h5')\n",
    "evaluation = model_loaded.evaluate(x_Test, y_Test, verbose=1)\n",
    "print(\"accuracy on test set is:{0}\".format(evaluation[1]*100))"
   ]
  },
  {
   "cell_type": "code",
   "execution_count": 52,
   "metadata": {},
   "outputs": [
    {
     "name": "stdout",
     "output_type": "stream",
     "text": [
      "7221/7221 [==============================] - 12s 2ms/step\n",
      "accuracy on test set is:80.69519457469075\n"
     ]
    }
   ],
   "source": [
    "#test on saved best weights\n",
    "model_loaded.load_weights('model_birnn2.weights.best.hdf5')\n",
    "scores = model_loaded.evaluate(x_Test, y_Test, verbose=1)\n",
    "print(\"accuracy on test set is:{0}\".format(evaluation[1]*100))"
   ]
  },
  {
   "cell_type": "code",
   "execution_count": null,
   "metadata": {},
   "outputs": [],
   "source": []
  }
 ],
 "metadata": {
  "kernelspec": {
   "display_name": "ml",
   "language": "python",
   "name": "ml"
  },
  "language_info": {
   "codemirror_mode": {
    "name": "ipython",
    "version": 3
   },
   "file_extension": ".py",
   "mimetype": "text/x-python",
   "name": "python",
   "nbconvert_exporter": "python",
   "pygments_lexer": "ipython3",
   "version": "3.6.5"
  }
 },
 "nbformat": 4,
 "nbformat_minor": 2
}
