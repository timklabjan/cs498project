{
 "cells": [
  {
   "cell_type": "code",
   "execution_count": 14,
   "metadata": {},
   "outputs": [],
   "source": [
    "import pandas as pd\n",
    "from sklearn.feature_extraction.text import CountVectorizer\n",
    "from sklearn.linear_model import LogisticRegression\n",
    "from sklearn.model_selection import train_test_split, KFold\n",
    "from sklearn.metrics import accuracy_score\n",
    "import numpy as np\n",
    "import warnings\n",
    "import seaborn as sns\n",
    "warnings.filterwarnings('ignore')"
   ]
  },
  {
   "cell_type": "code",
   "execution_count": 2,
   "metadata": {},
   "outputs": [],
   "source": [
    "data = pd.read_csv(\"content_topic_prediction/Topic_prediction_data_train.txt\",sep='\\t',header=None)\n",
    "data.columns = ['text','uid','type','timestamp']\n",
    "labels = pd.read_csv(\"content_topic_prediction/Topic_prediction_labels_train.txt\",sep='\\t',header=None)\n",
    "labels.columns = ['label']\n",
    "data['label'] = labels['label']\n",
    "\n"
   ]
  },
  {
   "cell_type": "code",
   "execution_count": 3,
   "metadata": {},
   "outputs": [
    {
     "data": {
      "text/html": [
       "<div>\n",
       "<style scoped>\n",
       "    .dataframe tbody tr th:only-of-type {\n",
       "        vertical-align: middle;\n",
       "    }\n",
       "\n",
       "    .dataframe tbody tr th {\n",
       "        vertical-align: top;\n",
       "    }\n",
       "\n",
       "    .dataframe thead th {\n",
       "        text-align: right;\n",
       "    }\n",
       "</style>\n",
       "<table border=\"1\" class=\"dataframe\">\n",
       "  <thead>\n",
       "    <tr style=\"text-align: right;\">\n",
       "      <th></th>\n",
       "      <th>text</th>\n",
       "      <th>uid</th>\n",
       "      <th>type</th>\n",
       "      <th>timestamp</th>\n",
       "      <th>label</th>\n",
       "    </tr>\n",
       "  </thead>\n",
       "  <tbody>\n",
       "    <tr>\n",
       "      <th>0</th>\n",
       "      <td>distinct consubstanti translat roman missal pu...</td>\n",
       "      <td>0</td>\n",
       "      <td>Q</td>\n",
       "      <td>0.01</td>\n",
       "      <td>9</td>\n",
       "    </tr>\n",
       "    <tr>\n",
       "      <th>1</th>\n",
       "      <td>cathol christian power bind loos catholic beli...</td>\n",
       "      <td>0</td>\n",
       "      <td>Q</td>\n",
       "      <td>0.01</td>\n",
       "      <td>0</td>\n",
       "    </tr>\n",
       "    <tr>\n",
       "      <th>2</th>\n",
       "      <td>read scriptur common worship christian church ...</td>\n",
       "      <td>0</td>\n",
       "      <td>Q</td>\n",
       "      <td>0.01</td>\n",
       "      <td>9</td>\n",
       "    </tr>\n",
       "    <tr>\n",
       "      <th>3</th>\n",
       "      <td>accord person polit libertarian compat golden ...</td>\n",
       "      <td>0</td>\n",
       "      <td>Q</td>\n",
       "      <td>0.01</td>\n",
       "      <td>0</td>\n",
       "    </tr>\n",
       "    <tr>\n",
       "      <th>4</th>\n",
       "      <td>criteria cathol determin testament charact pre...</td>\n",
       "      <td>0</td>\n",
       "      <td>Q</td>\n",
       "      <td>0.01</td>\n",
       "      <td>0</td>\n",
       "    </tr>\n",
       "  </tbody>\n",
       "</table>\n",
       "</div>"
      ],
      "text/plain": [
       "                                                text  uid type  timestamp  \\\n",
       "0  distinct consubstanti translat roman missal pu...    0    Q       0.01   \n",
       "1  cathol christian power bind loos catholic beli...    0    Q       0.01   \n",
       "2  read scriptur common worship christian church ...    0    Q       0.01   \n",
       "3  accord person polit libertarian compat golden ...    0    Q       0.01   \n",
       "4  criteria cathol determin testament charact pre...    0    Q       0.01   \n",
       "\n",
       "   label  \n",
       "0      9  \n",
       "1      0  \n",
       "2      9  \n",
       "3      0  \n",
       "4      0  "
      ]
     },
     "execution_count": 3,
     "metadata": {},
     "output_type": "execute_result"
    }
   ],
   "source": [
    "data.head()"
   ]
  },
  {
   "cell_type": "code",
   "execution_count": null,
   "metadata": {},
   "outputs": [],
   "source": [
    "data.shape"
   ]
  },
  {
   "cell_type": "code",
   "execution_count": null,
   "metadata": {},
   "outputs": [],
   "source": [
    "vectorizer = CountVectorizer(analyzer = \"word\",   \n",
    "                             tokenizer = None,    \n",
    "                             preprocessor = None, \n",
    "                             stop_words = None,   \n",
    "                             max_features = 5000)"
   ]
  },
  {
   "cell_type": "code",
   "execution_count": 4,
   "metadata": {},
   "outputs": [],
   "source": [
    "data = data[(data['text'].notnull())]"
   ]
  },
  {
   "cell_type": "code",
   "execution_count": 5,
   "metadata": {},
   "outputs": [
    {
     "data": {
      "text/plain": [
       "(96269, 5)"
      ]
     },
     "execution_count": 5,
     "metadata": {},
     "output_type": "execute_result"
    }
   ],
   "source": [
    "data=data.reset_index(drop=True)\n",
    "data.shape"
   ]
  },
  {
   "cell_type": "code",
   "execution_count": null,
   "metadata": {},
   "outputs": [],
   "source": [
    "train_data_features = vectorizer.fit_transform(data[\"text\"])\n",
    "features= np.array(train_data_features)"
   ]
  },
  {
   "cell_type": "code",
   "execution_count": null,
   "metadata": {},
   "outputs": [],
   "source": [
    "from sklearn.ensemble import GradientBoostingClassifier\n",
    "from sklearn.naive_bayes import GaussianNB\n",
    "classifier = LogisticRegression(random_state=1)\n",
    "#classifier= GradientBoostingClassifier()\n",
    "#classifier= GaussianNB()\n",
    "\n"
   ]
  },
  {
   "cell_type": "code",
   "execution_count": null,
   "metadata": {},
   "outputs": [],
   "source": [
    "from sklearn.model_selection import cross_val_score\n",
    "from sklearn.model_selection import train_test_split\n",
    "# scores = cross_val_score(classifier, train_data_features, data[\"label\"], cv=3)\n",
    "x_Train, x_Test, y_Train,  y_Test= train_test_split(train_data_features,data[\"label\"], test_size=.01)\n",
    "clf= classifier.fit(x_Train,y_Train)"
   ]
  },
  {
   "cell_type": "code",
   "execution_count": null,
   "metadata": {},
   "outputs": [],
   "source": [
    "text_f=[\"hello this is a good day\",\"nice day this is\", \"hello how are you\", \"hello how are you today\", \"batman wins all\", \"hey how are you\"]\n",
    "corpus = pd.DataFrame(columns=[\"ftext\"])\n",
    "corpus[\"ftext\"] = text_f\n"
   ]
  },
  {
   "cell_type": "code",
   "execution_count": null,
   "metadata": {},
   "outputs": [],
   "source": [
    "corpus"
   ]
  },
  {
   "cell_type": "code",
   "execution_count": null,
   "metadata": {},
   "outputs": [],
   "source": [
    "kkl=corpus.drop([2])\n",
    "kkl = kkl.reset_index(drop=True)\n",
    "kkl"
   ]
  },
  {
   "cell_type": "code",
   "execution_count": null,
   "metadata": {},
   "outputs": [],
   "source": [
    "kkl.iloc[2]"
   ]
  },
  {
   "cell_type": "code",
   "execution_count": 6,
   "metadata": {},
   "outputs": [],
   "source": [
    "from sklearn.feature_extraction.text import TfidfVectorizer\n",
    "tfVect= TfidfVectorizer(min_df=0.0010, ngram_range=[1,3]).fit_transform(data[\"text\"]).todense()"
   ]
  },
  {
   "cell_type": "code",
   "execution_count": null,
   "metadata": {},
   "outputs": [],
   "source": [
    "#tfVect=None"
   ]
  },
  {
   "cell_type": "code",
   "execution_count": 7,
   "metadata": {},
   "outputs": [
    {
     "data": {
      "text/plain": [
       "(96269, 7578)"
      ]
     },
     "execution_count": 7,
     "metadata": {},
     "output_type": "execute_result"
    }
   ],
   "source": [
    "tfVect.shape"
   ]
  },
  {
   "cell_type": "code",
   "execution_count": 8,
   "metadata": {},
   "outputs": [],
   "source": [
    "from scipy import spatial\n",
    "import operator\n",
    "\n",
    "\n",
    "def sim_rank(tx_id,tf_corpus, top=3):\n",
    "    all_score={}\n",
    "    \n",
    "    for i in range(len(tf_corpus)):\n",
    "        if i==tx_id:\n",
    "            #print(data.iloc[i][\"text\"])\n",
    "            continue\n",
    "        score= result = 1 - spatial.distance.cosine(tf_corpus[tx_id], tf_corpus[i])\n",
    "        all_score[i] = score\n",
    "    sorted_scores = sorted(all_score.items(), key=operator.itemgetter(1))\n",
    "    sorted_scores.reverse()\n",
    "    \n",
    "#     print(data[\"text\"][tx_id])\n",
    "#     print(data[\"text\"][sorted_scores[0][0]])\n",
    "#     print(data[\"text\"][sorted_scores[1][0]])\n",
    "#     print(data[\"text\"][sorted_scores[2][0]])\n",
    "    return sorted_scores[0:top]\n",
    "    \n",
    "        \n",
    "    \n",
    "    \n",
    "    "
   ]
  },
  {
   "cell_type": "code",
   "execution_count": null,
   "metadata": {},
   "outputs": [],
   "source": [
    "all_ranks=sim_rank(353,tfVect,top=50)"
   ]
  },
  {
   "cell_type": "code",
   "execution_count": null,
   "metadata": {},
   "outputs": [],
   "source": [
    "l1=data[\"text\"][353].split(\" \")\n",
    "\n",
    "print(l1, len(l1))"
   ]
  },
  {
   "cell_type": "code",
   "execution_count": null,
   "metadata": {},
   "outputs": [],
   "source": [
    "l2=data[\"text\"][79261].split(\" \")\n",
    "print(l2, len(l2))"
   ]
  },
  {
   "cell_type": "code",
   "execution_count": null,
   "metadata": {},
   "outputs": [],
   "source": [
    "print(list(set(l1).intersection(l2)))\n",
    "print(len(list(set(l1).intersection(l2))))"
   ]
  },
  {
   "cell_type": "code",
   "execution_count": null,
   "metadata": {},
   "outputs": [],
   "source": [
    "data[\"text\"][15969]"
   ]
  },
  {
   "cell_type": "code",
   "execution_count": null,
   "metadata": {},
   "outputs": [],
   "source": [
    "data.iloc[1][\"label\"]"
   ]
  },
  {
   "cell_type": "code",
   "execution_count": null,
   "metadata": {},
   "outputs": [],
   "source": [
    "all_ranked_labels=[]\n",
    "print(all_ranks)\n",
    "for k in range(len(all_ranks)):\n",
    "    \n",
    "    all_ranked_labels.append(data.iloc[all_ranks[k][0]][\"label\"])\n",
    "    "
   ]
  },
  {
   "cell_type": "code",
   "execution_count": null,
   "metadata": {},
   "outputs": [],
   "source": [
    "all_ranked_labels"
   ]
  },
  {
   "cell_type": "code",
   "execution_count": 11,
   "metadata": {},
   "outputs": [
    {
     "ename": "NameError",
     "evalue": "name 'all_ranked_labels' is not defined",
     "output_type": "error",
     "traceback": [
      "\u001b[1;31m---------------------------------------------------------------------------\u001b[0m",
      "\u001b[1;31mNameError\u001b[0m                                 Traceback (most recent call last)",
      "\u001b[1;32m<ipython-input-11-3ff419f76e1d>\u001b[0m in \u001b[0;36m<module>\u001b[1;34m()\u001b[0m\n\u001b[0;32m      1\u001b[0m \u001b[1;32mfrom\u001b[0m \u001b[0mcollections\u001b[0m \u001b[1;32mimport\u001b[0m \u001b[0mCounter\u001b[0m\u001b[1;33m\u001b[0m\u001b[0m\n\u001b[1;32m----> 2\u001b[1;33m \u001b[0mprint\u001b[0m\u001b[1;33m(\u001b[0m\u001b[0mCounter\u001b[0m\u001b[1;33m(\u001b[0m\u001b[0mall_ranked_labels\u001b[0m\u001b[1;33m)\u001b[0m\u001b[1;33m.\u001b[0m\u001b[0mkeys\u001b[0m\u001b[1;33m(\u001b[0m\u001b[1;33m)\u001b[0m\u001b[1;33m)\u001b[0m\u001b[1;33m\u001b[0m\u001b[0m\n\u001b[0m\u001b[0;32m      3\u001b[0m \u001b[0mprint\u001b[0m\u001b[1;33m(\u001b[0m\u001b[0mCounter\u001b[0m\u001b[1;33m(\u001b[0m\u001b[0mall_ranked_labels\u001b[0m\u001b[1;33m)\u001b[0m\u001b[1;33m.\u001b[0m\u001b[0mvalues\u001b[0m\u001b[1;33m(\u001b[0m\u001b[1;33m)\u001b[0m\u001b[1;33m)\u001b[0m\u001b[1;33m\u001b[0m\u001b[0m\n",
      "\u001b[1;31mNameError\u001b[0m: name 'all_ranked_labels' is not defined"
     ]
    }
   ],
   "source": [
    "from collections import Counter\n",
    "print(Counter(all_ranked_labels).keys())\n",
    "print(Counter(all_ranked_labels).values())"
   ]
  },
  {
   "cell_type": "code",
   "execution_count": null,
   "metadata": {},
   "outputs": [],
   "source": [
    "y"
   ]
  },
  {
   "cell_type": "code",
   "execution_count": null,
   "metadata": {},
   "outputs": [],
   "source": [
    "classifier.predict(x_Test[0])"
   ]
  },
  {
   "cell_type": "code",
   "execution_count": 12,
   "metadata": {},
   "outputs": [],
   "source": [
    "from collections import Counter\n",
    "def sim_score(tx_id,tf_corpus, top=3):\n",
    "    #print(\"true label - {0}\".format(data.iloc[tx_id][\"label\"]))\n",
    "    trueL= data.iloc[tx_id][\"label\"]\n",
    "    all_ranks=sim_rank(tx_id,tfVect,top=top)\n",
    "     \n",
    "    all_ranked_labels=[]\n",
    "    cumu_scores={}\n",
    "    for k in range(len(all_ranks)):\n",
    "        if data.iloc[all_ranks[k][0]][\"label\"] not in cumu_scores:\n",
    "            cumu_scores[data.iloc[all_ranks[k][0]][\"label\"]] = all_ranks[k][1]\n",
    "        else:\n",
    "            cumu_scores[data.iloc[all_ranks[k][0]][\"label\"]] = cumu_scores[data.iloc[all_ranks[k][0]][\"label\"]] + all_ranks[k][1]\n",
    "           \n",
    "        all_ranked_labels.append(data.iloc[all_ranks[k][0]][\"label\"])\n",
    "        keys= Counter(all_ranked_labels).keys()\n",
    "        vals= Counter(all_ranked_labels).values()\n",
    "   \n",
    "#     print(all_ranks)\n",
    "    finalscore= sorted(cumu_scores.items(), key=operator.itemgetter(1))\n",
    "    finalscore.reverse()\n",
    "    #print(\"Predicted label- {0}\".format(finalscore[0]))\n",
    "    #print(cumu_scores, keys, vals) \n",
    "    return trueL, finalscore[0][0]\n",
    "    \n",
    "    "
   ]
  },
  {
   "cell_type": "code",
   "execution_count": 19,
   "metadata": {},
   "outputs": [],
   "source": [
    "tl, pl=sim_score(490,tfVect,top=50)"
   ]
  },
  {
   "cell_type": "code",
   "execution_count": 20,
   "metadata": {},
   "outputs": [
    {
     "name": "stdout",
     "output_type": "stream",
     "text": [
      "0 0\n"
     ]
    }
   ],
   "source": [
    "print(tl,pl)"
   ]
  },
  {
   "cell_type": "code",
   "execution_count": null,
   "metadata": {},
   "outputs": [],
   "source": [
    "# import datetime\n",
    "# labelt=[]\n",
    "# labelp=[]\n",
    "# for i in range(50):\n",
    "#     print(\"iteration -{0} at {1}\".format(i, datetime.datetime.now()))\n",
    "#     tl, pl=sim_score(i,tfVect,top=50)\n",
    "#     labelt.append(tl)\n",
    "#     labelp.append(pl)\n",
    "    \n",
    "    "
   ]
  },
  {
   "cell_type": "code",
   "execution_count": 31,
   "metadata": {},
   "outputs": [],
   "source": [
    "import random\n",
    "test_set=random.sample(range(1, 90000), 500)\n"
   ]
  },
  {
   "cell_type": "code",
   "execution_count": 32,
   "metadata": {},
   "outputs": [
    {
     "name": "stdout",
     "output_type": "stream",
     "text": [
      "iteration -0 of 29536 at 2018-12-02 06:04:38.736355\n",
      "iteration -1 of 71740 at 2018-12-02 06:04:45.831394\n",
      "iteration -2 of 8115 at 2018-12-02 06:04:52.695361\n",
      "iteration -3 of 14790 at 2018-12-02 06:04:59.525357\n",
      "iteration -4 of 61618 at 2018-12-02 06:05:06.325394\n",
      "iteration -5 of 71681 at 2018-12-02 06:05:12.940390\n",
      "iteration -6 of 2703 at 2018-12-02 06:05:19.583357\n",
      "iteration -7 of 23711 at 2018-12-02 06:05:26.247399\n",
      "iteration -8 of 69832 at 2018-12-02 06:05:32.849391\n",
      "iteration -9 of 576 at 2018-12-02 06:05:39.582393\n",
      "iteration -10 of 68639 at 2018-12-02 06:05:46.315388\n",
      "iteration -11 of 7237 at 2018-12-02 06:05:52.964398\n",
      "iteration -12 of 57986 at 2018-12-02 06:05:59.597359\n",
      "iteration -13 of 63568 at 2018-12-02 06:06:06.617357\n",
      "iteration -14 of 30737 at 2018-12-02 06:06:13.357394\n",
      "iteration -15 of 70786 at 2018-12-02 06:06:20.059397\n",
      "iteration -16 of 15179 at 2018-12-02 06:06:26.745407\n",
      "iteration -17 of 27466 at 2018-12-02 06:06:33.473391\n",
      "iteration -18 of 2053 at 2018-12-02 06:06:40.170368\n",
      "iteration -19 of 35617 at 2018-12-02 06:06:46.928331\n",
      "iteration -20 of 89120 at 2018-12-02 06:06:53.595364\n",
      "iteration -21 of 49914 at 2018-12-02 06:07:00.370381\n",
      "iteration -22 of 33319 at 2018-12-02 06:07:07.044368\n",
      "iteration -23 of 87516 at 2018-12-02 06:07:13.781383\n",
      "iteration -24 of 39272 at 2018-12-02 06:07:20.510361\n",
      "iteration -25 of 18397 at 2018-12-02 06:07:27.200367\n",
      "iteration -26 of 7181 at 2018-12-02 06:07:33.914386\n",
      "iteration -27 of 64007 at 2018-12-02 06:07:40.628368\n",
      "iteration -28 of 86082 at 2018-12-02 06:07:47.316369\n",
      "iteration -29 of 28568 at 2018-12-02 06:07:54.051365\n",
      "iteration -30 of 3115 at 2018-12-02 06:08:00.929361\n",
      "iteration -31 of 15165 at 2018-12-02 06:08:07.736358\n",
      "iteration -32 of 18846 at 2018-12-02 06:08:14.331366\n",
      "iteration -33 of 67973 at 2018-12-02 06:08:21.071331\n",
      "iteration -34 of 60659 at 2018-12-02 06:08:27.734363\n",
      "iteration -35 of 49547 at 2018-12-02 06:08:34.394366\n",
      "iteration -36 of 11767 at 2018-12-02 06:08:41.063368\n",
      "iteration -37 of 54718 at 2018-12-02 06:08:47.785368\n",
      "iteration -38 of 53692 at 2018-12-02 06:08:54.501332\n",
      "iteration -39 of 64648 at 2018-12-02 06:09:01.160362\n",
      "iteration -40 of 64392 at 2018-12-02 06:09:07.811327\n",
      "iteration -41 of 89621 at 2018-12-02 06:09:14.515364\n",
      "iteration -42 of 11777 at 2018-12-02 06:09:21.201370\n",
      "iteration -43 of 12414 at 2018-12-02 06:09:27.908386\n",
      "iteration -44 of 54945 at 2018-12-02 06:09:34.680364\n",
      "iteration -45 of 71008 at 2018-12-02 06:09:41.398364\n",
      "iteration -46 of 13370 at 2018-12-02 06:09:49.092357\n",
      "iteration -47 of 32477 at 2018-12-02 06:09:56.024363\n",
      "iteration -48 of 30259 at 2018-12-02 06:10:02.854387\n",
      "iteration -49 of 79651 at 2018-12-02 06:10:09.499367\n",
      "iteration -50 of 58795 at 2018-12-02 06:10:16.286368\n",
      "iteration -51 of 27379 at 2018-12-02 06:10:22.989573\n",
      "iteration -52 of 7522 at 2018-12-02 06:10:29.672573\n",
      "iteration -53 of 47744 at 2018-12-02 06:10:36.362541\n",
      "iteration -54 of 71433 at 2018-12-02 06:10:42.971573\n",
      "iteration -55 of 42207 at 2018-12-02 06:10:49.738085\n",
      "iteration -56 of 40006 at 2018-12-02 06:10:56.463434\n",
      "iteration -57 of 75111 at 2018-12-02 06:11:03.160398\n",
      "iteration -58 of 40901 at 2018-12-02 06:11:09.811431\n",
      "iteration -59 of 29472 at 2018-12-02 06:11:16.433398\n",
      "iteration -60 of 69640 at 2018-12-02 06:11:23.080435\n",
      "iteration -61 of 65526 at 2018-12-02 06:11:29.745430\n",
      "iteration -62 of 32335 at 2018-12-02 06:11:36.408777\n",
      "iteration -63 of 72141 at 2018-12-02 06:11:43.090776\n",
      "iteration -64 of 63189 at 2018-12-02 06:11:49.686740\n",
      "iteration -65 of 73921 at 2018-12-02 06:11:56.316778\n",
      "iteration -66 of 1171 at 2018-12-02 06:12:03.015816\n",
      "iteration -67 of 40935 at 2018-12-02 06:12:09.684781\n",
      "iteration -68 of 44349 at 2018-12-02 06:12:16.387776\n",
      "iteration -69 of 82976 at 2018-12-02 06:12:23.102795\n",
      "iteration -70 of 612 at 2018-12-02 06:12:29.774781\n",
      "iteration -71 of 78548 at 2018-12-02 06:12:36.492790\n",
      "iteration -72 of 26195 at 2018-12-02 06:12:43.152785\n",
      "iteration -73 of 67662 at 2018-12-02 06:12:49.809776\n",
      "iteration -74 of 43136 at 2018-12-02 06:12:56.464785\n",
      "iteration -75 of 47391 at 2018-12-02 06:13:03.217777\n",
      "iteration -76 of 62490 at 2018-12-02 06:13:09.936777\n",
      "iteration -77 of 36623 at 2018-12-02 06:13:16.604781\n",
      "iteration -78 of 6195 at 2018-12-02 06:13:23.282781\n",
      "iteration -79 of 58257 at 2018-12-02 06:13:29.967793\n",
      "iteration -80 of 52631 at 2018-12-02 06:13:36.673779\n",
      "iteration -81 of 47131 at 2018-12-02 06:13:43.405280\n",
      "iteration -82 of 14251 at 2018-12-02 06:13:50.138255\n",
      "iteration -83 of 1417 at 2018-12-02 06:13:56.830260\n",
      "iteration -84 of 9159 at 2018-12-02 06:14:03.478224\n",
      "iteration -85 of 36996 at 2018-12-02 06:14:10.199265\n",
      "iteration -86 of 29178 at 2018-12-02 06:14:16.904291\n",
      "iteration -87 of 71712 at 2018-12-02 06:14:23.582275\n",
      "iteration -88 of 69109 at 2018-12-02 06:14:30.486351\n",
      "iteration -89 of 50586 at 2018-12-02 06:14:37.185364\n",
      "iteration -90 of 65296 at 2018-12-02 06:14:43.912360\n",
      "iteration -91 of 25559 at 2018-12-02 06:14:50.573357\n",
      "iteration -92 of 21641 at 2018-12-02 06:14:57.243357\n",
      "iteration -93 of 13715 at 2018-12-02 06:15:03.884375\n",
      "iteration -94 of 84169 at 2018-12-02 06:15:10.639362\n",
      "iteration -95 of 48419 at 2018-12-02 06:15:17.347361\n",
      "iteration -96 of 56177 at 2018-12-02 06:15:24.056356\n",
      "iteration -97 of 79444 at 2018-12-02 06:15:30.787364\n",
      "iteration -98 of 72184 at 2018-12-02 06:15:37.472379\n",
      "iteration -99 of 14153 at 2018-12-02 06:15:44.210362\n",
      "iteration -100 of 57112 at 2018-12-02 06:15:50.855356\n",
      "iteration -101 of 55812 at 2018-12-02 06:15:57.534321\n",
      "iteration -102 of 44165 at 2018-12-02 06:16:04.240361\n",
      "iteration -103 of 48294 at 2018-12-02 06:16:11.082352\n",
      "iteration -104 of 49677 at 2018-12-02 06:16:17.820358\n",
      "iteration -105 of 89503 at 2018-12-02 06:16:24.559733\n",
      "iteration -106 of 65364 at 2018-12-02 06:16:31.293734\n",
      "iteration -107 of 31251 at 2018-12-02 06:16:37.967738\n",
      "iteration -108 of 65611 at 2018-12-02 06:16:44.613702\n",
      "iteration -109 of 59283 at 2018-12-02 06:16:51.341702\n",
      "iteration -110 of 502 at 2018-12-02 06:16:58.079702\n",
      "iteration -111 of 14766 at 2018-12-02 06:17:04.780733\n",
      "iteration -112 of 32550 at 2018-12-02 06:17:11.395697\n",
      "iteration -113 of 64556 at 2018-12-02 06:17:18.042737\n",
      "iteration -114 of 10665 at 2018-12-02 06:17:24.691733\n",
      "iteration -115 of 57249 at 2018-12-02 06:17:31.355702\n",
      "iteration -116 of 80329 at 2018-12-02 06:17:38.088739\n",
      "iteration -117 of 81497 at 2018-12-02 06:17:44.846738\n",
      "iteration -118 of 35953 at 2018-12-02 06:17:51.595733\n",
      "iteration -119 of 85485 at 2018-12-02 06:17:58.211743\n",
      "iteration -120 of 66199 at 2018-12-02 06:18:04.974734\n",
      "iteration -121 of 81278 at 2018-12-02 06:18:11.614739\n",
      "iteration -122 of 72116 at 2018-12-02 06:18:18.347734\n",
      "iteration -123 of 70252 at 2018-12-02 06:18:25.048716\n",
      "iteration -124 of 52423 at 2018-12-02 06:18:31.766738\n",
      "iteration -125 of 73884 at 2018-12-02 06:18:38.499739\n",
      "iteration -126 of 15865 at 2018-12-02 06:18:45.242758\n",
      "iteration -127 of 54069 at 2018-12-02 06:18:51.873734\n",
      "iteration -128 of 20966 at 2018-12-02 06:18:58.537736\n",
      "iteration -129 of 70250 at 2018-12-02 06:19:05.218761\n",
      "iteration -130 of 14136 at 2018-12-02 06:19:11.786715\n",
      "iteration -131 of 35938 at 2018-12-02 06:19:18.490756\n",
      "iteration -132 of 76814 at 2018-12-02 06:19:25.141755\n",
      "iteration -133 of 45991 at 2018-12-02 06:19:31.809751\n",
      "iteration -134 of 53819 at 2018-12-02 06:19:38.478757\n",
      "iteration -135 of 87825 at 2018-12-02 06:19:45.183750\n",
      "iteration -136 of 40534 at 2018-12-02 06:19:51.752715\n",
      "iteration -137 of 66362 at 2018-12-02 06:19:58.443719\n",
      "iteration -138 of 17983 at 2018-12-02 06:20:05.091755\n",
      "iteration -139 of 35669 at 2018-12-02 06:20:11.783750\n",
      "iteration -140 of 69719 at 2018-12-02 06:20:18.462756\n",
      "iteration -141 of 37854 at 2018-12-02 06:20:25.120758\n",
      "iteration -142 of 56550 at 2018-12-02 06:20:31.804751\n",
      "iteration -143 of 34044 at 2018-12-02 06:20:38.466753\n",
      "iteration -144 of 73417 at 2018-12-02 06:20:45.106715\n",
      "iteration -145 of 83977 at 2018-12-02 06:20:51.770719\n",
      "iteration -146 of 89145 at 2018-12-02 06:20:58.400715\n",
      "iteration -147 of 81804 at 2018-12-02 06:21:05.128750\n",
      "iteration -148 of 77442 at 2018-12-02 06:21:11.869755\n",
      "iteration -149 of 19509 at 2018-12-02 06:21:18.578759\n",
      "iteration -150 of 26492 at 2018-12-02 06:21:25.259769\n",
      "iteration -151 of 66056 at 2018-12-02 06:21:31.987755\n",
      "iteration -152 of 870 at 2018-12-02 06:21:38.758751\n",
      "iteration -153 of 38782 at 2018-12-02 06:21:45.434757\n",
      "iteration -154 of 14213 at 2018-12-02 06:21:52.152755\n"
     ]
    },
    {
     "name": "stdout",
     "output_type": "stream",
     "text": [
      "iteration -155 of 16285 at 2018-12-02 06:21:58.904716\n",
      "iteration -156 of 52157 at 2018-12-02 06:22:05.683756\n",
      "iteration -157 of 50049 at 2018-12-02 06:22:12.396753\n",
      "iteration -158 of 89662 at 2018-12-02 06:22:19.119753\n",
      "iteration -159 of 81513 at 2018-12-02 06:22:26.025750\n",
      "iteration -160 of 856 at 2018-12-02 06:22:32.800769\n",
      "iteration -161 of 29736 at 2018-12-02 06:22:39.553675\n",
      "iteration -162 of 5681 at 2018-12-02 06:22:46.312677\n",
      "iteration -163 of 83992 at 2018-12-02 06:22:53.082677\n",
      "iteration -164 of 13995 at 2018-12-02 06:22:59.794641\n",
      "iteration -165 of 26236 at 2018-12-02 06:23:06.593641\n",
      "iteration -166 of 63099 at 2018-12-02 06:23:13.262641\n",
      "iteration -167 of 31876 at 2018-12-02 06:23:19.850637\n",
      "iteration -168 of 65430 at 2018-12-02 06:23:26.574637\n",
      "iteration -169 of 38219 at 2018-12-02 06:23:33.287641\n",
      "iteration -170 of 22183 at 2018-12-02 06:23:39.935636\n",
      "iteration -171 of 26401 at 2018-12-02 06:23:46.627637\n",
      "iteration -172 of 34312 at 2018-12-02 06:23:53.346640\n",
      "iteration -173 of 50021 at 2018-12-02 06:24:00.009636\n",
      "iteration -174 of 58722 at 2018-12-02 06:24:06.737671\n",
      "iteration -175 of 29190 at 2018-12-02 06:24:13.448676\n",
      "iteration -176 of 71633 at 2018-12-02 06:24:20.204671\n",
      "iteration -177 of 75195 at 2018-12-02 06:24:26.915634\n",
      "iteration -178 of 42345 at 2018-12-02 06:24:33.595690\n",
      "iteration -179 of 56150 at 2018-12-02 06:24:40.312675\n",
      "iteration -180 of 75591 at 2018-12-02 06:24:47.333678\n",
      "iteration -181 of 58762 at 2018-12-02 06:24:55.056639\n",
      "iteration -182 of 42194 at 2018-12-02 06:25:01.878675\n",
      "iteration -183 of 63640 at 2018-12-02 06:25:08.592685\n",
      "iteration -184 of 15631 at 2018-12-02 06:25:15.304671\n",
      "iteration -185 of 30175 at 2018-12-02 06:25:22.024671\n",
      "iteration -186 of 13381 at 2018-12-02 06:25:28.714692\n",
      "iteration -187 of 63873 at 2018-12-02 06:25:35.331675\n",
      "iteration -188 of 22843 at 2018-12-02 06:25:41.977665\n",
      "iteration -189 of 77939 at 2018-12-02 06:25:48.685675\n",
      "iteration -190 of 51115 at 2018-12-02 06:25:55.368634\n",
      "iteration -191 of 40 at 2018-12-02 06:26:02.039665\n",
      "iteration -192 of 55199 at 2018-12-02 06:26:08.833635\n",
      "iteration -193 of 32768 at 2018-12-02 06:26:15.513675\n",
      "iteration -194 of 70033 at 2018-12-02 06:26:22.204670\n",
      "iteration -195 of 13079 at 2018-12-02 06:26:28.872671\n",
      "iteration -196 of 31257 at 2018-12-02 06:26:35.580985\n",
      "iteration -197 of 84040 at 2018-12-02 06:26:42.294132\n",
      "iteration -198 of 19673 at 2018-12-02 06:26:49.006136\n",
      "iteration -199 of 20090 at 2018-12-02 06:26:55.686134\n",
      "iteration -200 of 3547 at 2018-12-02 06:27:02.419831\n",
      "iteration -201 of 8767 at 2018-12-02 06:27:09.086826\n",
      "iteration -202 of 24671 at 2018-12-02 06:27:15.779831\n",
      "iteration -203 of 63658 at 2018-12-02 06:27:22.448202\n",
      "iteration -204 of 11846 at 2018-12-02 06:27:29.146202\n",
      "iteration -205 of 15854 at 2018-12-02 06:27:35.796205\n",
      "iteration -206 of 87250 at 2018-12-02 06:27:42.469206\n",
      "iteration -207 of 36960 at 2018-12-02 06:27:49.146172\n",
      "iteration -208 of 16763 at 2018-12-02 06:27:55.826227\n",
      "iteration -209 of 48484 at 2018-12-02 06:28:02.535207\n",
      "iteration -210 of 69936 at 2018-12-02 06:28:09.149202\n",
      "iteration -211 of 72935 at 2018-12-02 06:28:15.819166\n",
      "iteration -212 of 16669 at 2018-12-02 06:28:22.472239\n",
      "iteration -213 of 46151 at 2018-12-02 06:28:29.072244\n",
      "iteration -214 of 29771 at 2018-12-02 06:28:35.710275\n",
      "iteration -215 of 53768 at 2018-12-02 06:28:42.366238\n",
      "iteration -216 of 16280 at 2018-12-02 06:28:48.905298\n",
      "iteration -217 of 14549 at 2018-12-02 06:28:55.516242\n",
      "iteration -218 of 79670 at 2018-12-02 06:29:02.202292\n",
      "iteration -219 of 64722 at 2018-12-02 06:29:08.876276\n",
      "iteration -220 of 59444 at 2018-12-02 06:29:15.428275\n",
      "iteration -221 of 82442 at 2018-12-02 06:29:22.016242\n",
      "iteration -222 of 47302 at 2018-12-02 06:29:28.638238\n",
      "iteration -223 of 73645 at 2018-12-02 06:29:35.217285\n",
      "iteration -224 of 76819 at 2018-12-02 06:29:41.895273\n",
      "iteration -225 of 89175 at 2018-12-02 06:29:48.482238\n",
      "iteration -226 of 56392 at 2018-12-02 06:29:55.123281\n",
      "iteration -227 of 40295 at 2018-12-02 06:30:01.763242\n",
      "iteration -228 of 5832 at 2018-12-02 06:30:08.434278\n",
      "iteration -229 of 59788 at 2018-12-02 06:30:15.049243\n",
      "iteration -230 of 62165 at 2018-12-02 06:30:21.664269\n",
      "iteration -231 of 19225 at 2018-12-02 06:30:28.286278\n",
      "iteration -232 of 48555 at 2018-12-02 06:30:34.995276\n",
      "iteration -233 of 87686 at 2018-12-02 06:30:41.657292\n",
      "iteration -234 of 40530 at 2018-12-02 06:30:48.296276\n",
      "iteration -235 of 71404 at 2018-12-02 06:30:54.901279\n",
      "iteration -236 of 65227 at 2018-12-02 06:31:01.504279\n",
      "iteration -237 of 1378 at 2018-12-02 06:31:08.109277\n",
      "iteration -238 of 34124 at 2018-12-02 06:31:14.770277\n",
      "iteration -239 of 82081 at 2018-12-02 06:31:21.416278\n",
      "iteration -240 of 5041 at 2018-12-02 06:31:28.178289\n",
      "iteration -241 of 33095 at 2018-12-02 06:31:34.754344\n",
      "iteration -242 of 57906 at 2018-12-02 06:31:41.443401\n",
      "iteration -243 of 60952 at 2018-12-02 06:31:48.055380\n",
      "iteration -244 of 88665 at 2018-12-02 06:31:54.721381\n",
      "iteration -245 of 37533 at 2018-12-02 06:32:01.348381\n",
      "iteration -246 of 29149 at 2018-12-02 06:32:08.001375\n",
      "iteration -247 of 21710 at 2018-12-02 06:32:14.628380\n",
      "iteration -248 of 85926 at 2018-12-02 06:32:21.227376\n",
      "iteration -249 of 6087 at 2018-12-02 06:32:27.935380\n",
      "iteration -250 of 75256 at 2018-12-02 06:32:34.547344\n",
      "iteration -251 of 5156 at 2018-12-02 06:32:41.194343\n",
      "iteration -252 of 68836 at 2018-12-02 06:32:47.869376\n",
      "iteration -253 of 28217 at 2018-12-02 06:32:54.444381\n",
      "iteration -254 of 9440 at 2018-12-02 06:33:01.125378\n",
      "iteration -255 of 33617 at 2018-12-02 06:33:07.794375\n",
      "iteration -256 of 28657 at 2018-12-02 06:33:14.397375\n",
      "iteration -257 of 53394 at 2018-12-02 06:33:20.979373\n",
      "iteration -258 of 30670 at 2018-12-02 06:33:27.608340\n",
      "iteration -259 of 73742 at 2018-12-02 06:33:34.193378\n",
      "iteration -260 of 16337 at 2018-12-02 06:33:40.830344\n",
      "iteration -261 of 34476 at 2018-12-02 06:33:47.422398\n",
      "iteration -262 of 26165 at 2018-12-02 06:33:54.044375\n",
      "iteration -263 of 8802 at 2018-12-02 06:34:00.630340\n",
      "iteration -264 of 64496 at 2018-12-02 06:34:07.191370\n",
      "iteration -265 of 40507 at 2018-12-02 06:34:13.801375\n",
      "iteration -266 of 25593 at 2018-12-02 06:34:20.329344\n",
      "iteration -267 of 7494 at 2018-12-02 06:34:26.992345\n",
      "iteration -268 of 6636 at 2018-12-02 06:34:33.632341\n",
      "iteration -269 of 86373 at 2018-12-02 06:34:40.296342\n",
      "iteration -270 of 28368 at 2018-12-02 06:34:47.021671\n",
      "iteration -271 of 51235 at 2018-12-02 06:34:53.648477\n",
      "iteration -272 of 81971 at 2018-12-02 06:35:00.245478\n",
      "iteration -273 of 86127 at 2018-12-02 06:35:06.819437\n",
      "iteration -274 of 25486 at 2018-12-02 06:35:13.438477\n",
      "iteration -275 of 10430 at 2018-12-02 06:35:20.106478\n",
      "iteration -276 of 5231 at 2018-12-02 06:35:26.651445\n",
      "iteration -277 of 48604 at 2018-12-02 06:35:33.313440\n",
      "iteration -278 of 77353 at 2018-12-02 06:35:39.827436\n",
      "iteration -279 of 47978 at 2018-12-02 06:35:46.527472\n",
      "iteration -280 of 81884 at 2018-12-02 06:35:53.220489\n",
      "iteration -281 of 248 at 2018-12-02 06:35:59.785441\n",
      "iteration -282 of 38019 at 2018-12-02 06:36:06.554460\n",
      "iteration -283 of 66267 at 2018-12-02 06:36:13.206492\n",
      "iteration -284 of 11205 at 2018-12-02 06:36:19.798477\n",
      "iteration -285 of 57219 at 2018-12-02 06:36:26.489467\n",
      "iteration -286 of 52045 at 2018-12-02 06:36:33.180472\n",
      "iteration -287 of 37567 at 2018-12-02 06:36:39.776436\n",
      "iteration -288 of 10064 at 2018-12-02 06:36:46.506477\n",
      "iteration -289 of 70469 at 2018-12-02 06:36:53.185477\n",
      "iteration -290 of 76154 at 2018-12-02 06:36:59.851476\n",
      "iteration -291 of 33487 at 2018-12-02 06:37:06.616472\n",
      "iteration -292 of 25302 at 2018-12-02 06:37:13.170492\n",
      "iteration -293 of 15047 at 2018-12-02 06:37:19.848472\n",
      "iteration -294 of 37062 at 2018-12-02 06:37:26.445477\n",
      "iteration -295 of 18746 at 2018-12-02 06:37:32.995478\n",
      "iteration -296 of 81969 at 2018-12-02 06:37:39.559441\n",
      "iteration -297 of 40677 at 2018-12-02 06:37:46.189475\n",
      "iteration -298 of 45555 at 2018-12-02 06:37:52.839492\n",
      "iteration -299 of 80863 at 2018-12-02 06:37:59.447492\n",
      "iteration -300 of 19375 at 2018-12-02 06:38:06.063476\n",
      "iteration -301 of 81336 at 2018-12-02 06:38:12.707473\n",
      "iteration -302 of 73351 at 2018-12-02 06:38:19.397469\n",
      "iteration -303 of 72436 at 2018-12-02 06:38:26.031472\n",
      "iteration -304 of 29886 at 2018-12-02 06:38:32.664476\n",
      "iteration -305 of 82248 at 2018-12-02 06:38:39.300481\n",
      "iteration -306 of 50046 at 2018-12-02 06:38:46.122475\n",
      "iteration -307 of 68230 at 2018-12-02 06:38:52.854436\n"
     ]
    },
    {
     "name": "stdout",
     "output_type": "stream",
     "text": [
      "iteration -308 of 28583 at 2018-12-02 06:38:59.569477\n",
      "iteration -309 of 7270 at 2018-12-02 06:39:06.272437\n",
      "iteration -310 of 50631 at 2018-12-02 06:39:12.863476\n",
      "iteration -311 of 13543 at 2018-12-02 06:39:19.496477\n",
      "iteration -312 of 13820 at 2018-12-02 06:39:26.198491\n",
      "iteration -313 of 86806 at 2018-12-02 06:39:32.855474\n",
      "iteration -314 of 19327 at 2018-12-02 06:39:39.474476\n",
      "iteration -315 of 63340 at 2018-12-02 06:39:46.118473\n",
      "iteration -316 of 88186 at 2018-12-02 06:39:53.352473\n",
      "iteration -317 of 87155 at 2018-12-02 06:40:00.474477\n",
      "iteration -318 of 64540 at 2018-12-02 06:40:07.114472\n",
      "iteration -319 of 59267 at 2018-12-02 06:40:13.693477\n",
      "iteration -320 of 65277 at 2018-12-02 06:40:20.329436\n",
      "iteration -321 of 17517 at 2018-12-02 06:40:26.922440\n",
      "iteration -322 of 73242 at 2018-12-02 06:40:33.596477\n",
      "iteration -323 of 62715 at 2018-12-02 06:40:40.146472\n",
      "iteration -324 of 1495 at 2018-12-02 06:40:46.804476\n",
      "iteration -325 of 75211 at 2018-12-02 06:40:53.497477\n",
      "iteration -326 of 3729 at 2018-12-02 06:41:00.256949\n",
      "iteration -327 of 32902 at 2018-12-02 06:41:06.928924\n",
      "iteration -328 of 74990 at 2018-12-02 06:41:13.553948\n",
      "iteration -329 of 51810 at 2018-12-02 06:41:20.191938\n",
      "iteration -330 of 14331 at 2018-12-02 06:41:26.873945\n",
      "iteration -331 of 89181 at 2018-12-02 06:41:33.502949\n",
      "iteration -332 of 29451 at 2018-12-02 06:41:40.134913\n",
      "iteration -333 of 68732 at 2018-12-02 06:41:46.706949\n",
      "iteration -334 of 73566 at 2018-12-02 06:41:53.350308\n",
      "iteration -335 of 61846 at 2018-12-02 06:41:59.936311\n",
      "iteration -336 of 11250 at 2018-12-02 06:42:06.591313\n",
      "iteration -337 of 30593 at 2018-12-02 06:42:13.291308\n",
      "iteration -338 of 36809 at 2018-12-02 06:42:19.892313\n",
      "iteration -339 of 13059 at 2018-12-02 06:42:26.510559\n",
      "iteration -340 of 8959 at 2018-12-02 06:42:33.164559\n",
      "iteration -341 of 84272 at 2018-12-02 06:42:39.722944\n",
      "iteration -342 of 53067 at 2018-12-02 06:42:46.283941\n",
      "iteration -343 of 58768 at 2018-12-02 06:42:52.992948\n",
      "iteration -344 of 13497 at 2018-12-02 06:42:59.644949\n",
      "iteration -345 of 8306 at 2018-12-02 06:43:06.252945\n",
      "iteration -346 of 9959 at 2018-12-02 06:43:12.904952\n",
      "iteration -347 of 41207 at 2018-12-02 06:43:19.574945\n",
      "iteration -348 of 28388 at 2018-12-02 06:43:26.222939\n",
      "iteration -349 of 18462 at 2018-12-02 06:43:32.844963\n",
      "iteration -350 of 17939 at 2018-12-02 06:43:39.487950\n",
      "iteration -351 of 75238 at 2018-12-02 06:43:46.145947\n",
      "iteration -352 of 89958 at 2018-12-02 06:43:52.693946\n",
      "iteration -353 of 5026 at 2018-12-02 06:43:59.367941\n",
      "iteration -354 of 30804 at 2018-12-02 06:44:06.051923\n",
      "iteration -355 of 13642 at 2018-12-02 06:44:12.658928\n",
      "iteration -356 of 14823 at 2018-12-02 06:44:19.364923\n",
      "iteration -357 of 12300 at 2018-12-02 06:44:25.947924\n",
      "iteration -358 of 16372 at 2018-12-02 06:44:32.654928\n",
      "iteration -359 of 65620 at 2018-12-02 06:44:39.359919\n",
      "iteration -360 of 82354 at 2018-12-02 06:44:46.019888\n",
      "iteration -361 of 81892 at 2018-12-02 06:44:52.687887\n",
      "iteration -362 of 15754 at 2018-12-02 06:44:59.226887\n",
      "iteration -363 of 40968 at 2018-12-02 06:45:05.904942\n",
      "iteration -364 of 11812 at 2018-12-02 06:45:12.522928\n",
      "iteration -365 of 80805 at 2018-12-02 06:45:19.198923\n",
      "iteration -366 of 6783 at 2018-12-02 06:45:25.839923\n",
      "iteration -367 of 72792 at 2018-12-02 06:45:32.543925\n",
      "iteration -368 of 50865 at 2018-12-02 06:45:39.154928\n",
      "iteration -369 of 53216 at 2018-12-02 06:45:45.807924\n",
      "iteration -370 of 26563 at 2018-12-02 06:45:52.473943\n",
      "iteration -371 of 72206 at 2018-12-02 06:45:59.102887\n",
      "iteration -372 of 4972 at 2018-12-02 06:46:05.796937\n",
      "iteration -373 of 88155 at 2018-12-02 06:46:12.507918\n",
      "iteration -374 of 15124 at 2018-12-02 06:46:19.174887\n",
      "iteration -375 of 35738 at 2018-12-02 06:46:25.896947\n",
      "iteration -376 of 54977 at 2018-12-02 06:46:32.516030\n",
      "iteration -377 of 53170 at 2018-12-02 06:46:39.111030\n",
      "iteration -378 of 61245 at 2018-12-02 06:46:45.800990\n",
      "iteration -379 of 74361 at 2018-12-02 06:46:52.468027\n",
      "iteration -380 of 6496 at 2018-12-02 06:46:59.173031\n",
      "iteration -381 of 28083 at 2018-12-02 06:47:05.898020\n",
      "iteration -382 of 20846 at 2018-12-02 06:47:12.447027\n",
      "iteration -383 of 74722 at 2018-12-02 06:47:19.139994\n",
      "iteration -384 of 6923 at 2018-12-02 06:47:25.786269\n",
      "iteration -385 of 9375 at 2018-12-02 06:47:32.382236\n",
      "iteration -386 of 86372 at 2018-12-02 06:47:38.935486\n",
      "iteration -387 of 88893 at 2018-12-02 06:47:45.577519\n",
      "iteration -388 of 1653 at 2018-12-02 06:47:52.305523\n",
      "iteration -389 of 51680 at 2018-12-02 06:47:58.942533\n",
      "iteration -390 of 5180 at 2018-12-02 06:48:05.604775\n",
      "iteration -391 of 26306 at 2018-12-02 06:48:12.295720\n",
      "iteration -392 of 33813 at 2018-12-02 06:48:18.970726\n",
      "iteration -393 of 6826 at 2018-12-02 06:48:25.647122\n",
      "iteration -394 of 47672 at 2018-12-02 06:48:32.315121\n",
      "iteration -395 of 79710 at 2018-12-02 06:48:38.864116\n",
      "iteration -396 of 50546 at 2018-12-02 06:48:45.524123\n",
      "iteration -397 of 1943 at 2018-12-02 06:48:52.099120\n",
      "iteration -398 of 17682 at 2018-12-02 06:48:58.809116\n",
      "iteration -399 of 34999 at 2018-12-02 06:49:05.466122\n",
      "iteration -400 of 46670 at 2018-12-02 06:49:12.096081\n",
      "iteration -401 of 33695 at 2018-12-02 06:49:18.684081\n",
      "iteration -402 of 49336 at 2018-12-02 06:49:25.356136\n",
      "iteration -403 of 17534 at 2018-12-02 06:49:32.020169\n",
      "iteration -404 of 88849 at 2018-12-02 06:49:38.745223\n",
      "iteration -405 of 8687 at 2018-12-02 06:49:45.311246\n",
      "iteration -406 of 89303 at 2018-12-02 06:49:51.858228\n",
      "iteration -407 of 89039 at 2018-12-02 06:49:58.519227\n",
      "iteration -408 of 67946 at 2018-12-02 06:50:05.074669\n",
      "iteration -409 of 26955 at 2018-12-02 06:50:11.767621\n",
      "iteration -410 of 64476 at 2018-12-02 06:50:18.401625\n",
      "iteration -411 of 29784 at 2018-12-02 06:50:24.962653\n",
      "iteration -412 of 47776 at 2018-12-02 06:50:31.525657\n",
      "iteration -413 of 54791 at 2018-12-02 06:50:38.169662\n",
      "iteration -414 of 53325 at 2018-12-02 06:50:44.838661\n",
      "iteration -415 of 30711 at 2018-12-02 06:50:51.475620\n",
      "iteration -416 of 35327 at 2018-12-02 06:50:58.142656\n",
      "iteration -417 of 865 at 2018-12-02 06:51:04.846659\n",
      "iteration -418 of 88345 at 2018-12-02 06:51:11.487620\n",
      "iteration -419 of 24773 at 2018-12-02 06:51:18.180658\n",
      "iteration -420 of 57869 at 2018-12-02 06:51:24.852656\n",
      "iteration -421 of 48011 at 2018-12-02 06:51:31.502625\n",
      "iteration -422 of 43372 at 2018-12-02 06:51:38.183660\n",
      "iteration -423 of 29407 at 2018-12-02 06:51:44.812660\n",
      "iteration -424 of 50533 at 2018-12-02 06:51:51.465661\n",
      "iteration -425 of 33956 at 2018-12-02 06:51:58.015620\n",
      "iteration -426 of 88136 at 2018-12-02 06:52:04.677655\n",
      "iteration -427 of 14050 at 2018-12-02 06:52:11.369041\n",
      "iteration -428 of 40291 at 2018-12-02 06:52:18.025034\n",
      "iteration -429 of 13427 at 2018-12-02 06:52:24.599956\n",
      "iteration -430 of 59974 at 2018-12-02 06:52:31.252936\n",
      "iteration -431 of 16181 at 2018-12-02 06:52:37.947937\n",
      "iteration -432 of 7971 at 2018-12-02 06:52:44.584941\n",
      "iteration -433 of 50205 at 2018-12-02 06:52:51.335916\n",
      "iteration -434 of 40355 at 2018-12-02 06:52:58.000948\n",
      "iteration -435 of 37095 at 2018-12-02 06:53:04.507947\n",
      "iteration -436 of 87861 at 2018-12-02 06:53:11.197912\n",
      "iteration -437 of 68762 at 2018-12-02 06:53:17.874916\n",
      "iteration -438 of 55786 at 2018-12-02 06:53:24.437948\n",
      "iteration -439 of 81476 at 2018-12-02 06:53:31.101947\n",
      "iteration -440 of 51760 at 2018-12-02 06:53:37.811948\n",
      "iteration -441 of 60679 at 2018-12-02 06:53:44.452946\n",
      "iteration -442 of 23020 at 2018-12-02 06:53:50.909949\n",
      "iteration -443 of 61822 at 2018-12-02 06:53:57.497930\n",
      "iteration -444 of 12006 at 2018-12-02 06:54:04.158953\n",
      "iteration -445 of 28393 at 2018-12-02 06:54:10.717966\n",
      "iteration -446 of 20293 at 2018-12-02 06:54:17.332953\n",
      "iteration -447 of 42019 at 2018-12-02 06:54:23.901207\n",
      "iteration -448 of 78461 at 2018-12-02 06:54:30.619183\n",
      "iteration -449 of 87925 at 2018-12-02 06:54:37.168153\n",
      "iteration -450 of 79055 at 2018-12-02 06:54:43.827188\n",
      "iteration -451 of 81156 at 2018-12-02 06:54:50.607152\n",
      "iteration -452 of 46855 at 2018-12-02 06:54:58.057153\n",
      "iteration -453 of 2370 at 2018-12-02 06:55:04.951189\n",
      "iteration -454 of 82963 at 2018-12-02 06:55:11.731194\n",
      "iteration -455 of 49406 at 2018-12-02 06:55:18.335157\n",
      "iteration -456 of 56159 at 2018-12-02 06:55:24.976189\n",
      "iteration -457 of 58553 at 2018-12-02 06:55:31.535190\n",
      "iteration -458 of 17397 at 2018-12-02 06:55:38.104189\n",
      "iteration -459 of 16954 at 2018-12-02 06:55:44.715193\n",
      "iteration -460 of 63336 at 2018-12-02 06:55:51.322050\n"
     ]
    },
    {
     "name": "stdout",
     "output_type": "stream",
     "text": [
      "iteration -461 of 14991 at 2018-12-02 06:55:57.916092\n",
      "iteration -462 of 16403 at 2018-12-02 06:56:04.513087\n",
      "iteration -463 of 22958 at 2018-12-02 06:56:11.312055\n",
      "iteration -464 of 89319 at 2018-12-02 06:56:17.929078\n",
      "iteration -465 of 28476 at 2018-12-02 06:56:24.426088\n",
      "iteration -466 of 14559 at 2018-12-02 06:56:30.964055\n",
      "iteration -467 of 39932 at 2018-12-02 06:56:37.552091\n",
      "iteration -468 of 6364 at 2018-12-02 06:56:44.321329\n",
      "iteration -469 of 1008 at 2018-12-02 06:56:50.825292\n",
      "iteration -470 of 66488 at 2018-12-02 06:56:57.473329\n",
      "iteration -471 of 11163 at 2018-12-02 06:57:04.068324\n",
      "iteration -472 of 60917 at 2018-12-02 06:57:10.700325\n",
      "iteration -473 of 89599 at 2018-12-02 06:57:17.355329\n",
      "iteration -474 of 43068 at 2018-12-02 06:57:23.972324\n",
      "iteration -475 of 63123 at 2018-12-02 06:57:30.604329\n",
      "iteration -476 of 30384 at 2018-12-02 06:57:37.248325\n",
      "iteration -477 of 32431 at 2018-12-02 06:57:43.836324\n",
      "iteration -478 of 89816 at 2018-12-02 06:57:50.486292\n",
      "iteration -479 of 24129 at 2018-12-02 06:57:57.044325\n",
      "iteration -480 of 41483 at 2018-12-02 06:58:03.639331\n",
      "iteration -481 of 17815 at 2018-12-02 06:58:10.217603\n",
      "iteration -482 of 35311 at 2018-12-02 06:58:16.883604\n",
      "iteration -483 of 55046 at 2018-12-02 06:58:23.548597\n",
      "iteration -484 of 37240 at 2018-12-02 06:58:30.096848\n",
      "iteration -485 of 33550 at 2018-12-02 06:58:36.653851\n",
      "iteration -486 of 30192 at 2018-12-02 06:58:43.313851\n",
      "iteration -487 of 77220 at 2018-12-02 06:58:49.884167\n",
      "iteration -488 of 43948 at 2018-12-02 06:58:56.451201\n",
      "iteration -489 of 68052 at 2018-12-02 06:59:03.066201\n",
      "iteration -490 of 36127 at 2018-12-02 06:59:09.616169\n",
      "iteration -491 of 88572 at 2018-12-02 06:59:16.239185\n",
      "iteration -492 of 79778 at 2018-12-02 06:59:22.865182\n",
      "iteration -493 of 22585 at 2018-12-02 06:59:29.462188\n",
      "iteration -494 of 87455 at 2018-12-02 06:59:35.984147\n",
      "iteration -495 of 61990 at 2018-12-02 06:59:42.645143\n",
      "iteration -496 of 54732 at 2018-12-02 06:59:49.266180\n",
      "iteration -497 of 5623 at 2018-12-02 06:59:55.898143\n",
      "iteration -498 of 78713 at 2018-12-02 07:00:02.497147\n",
      "iteration -499 of 31471 at 2018-12-02 07:00:09.129181\n"
     ]
    }
   ],
   "source": [
    "import random\n",
    "import datetime\n",
    "labelt=[]\n",
    "labelp=[]\n",
    "countq=0\n",
    "#Take random ranges of documents to predict.\n",
    "for i in test_set:\n",
    "    \n",
    "    print(\"iteration -{0} of {1} at {2}\".format(countq,i, datetime.datetime.now()))\n",
    "    tl, pl=sim_score(i,tfVect,top=50)\n",
    "    labelt.append(tl)\n",
    "    labelp.append(pl)\n",
    "    countq +=1"
   ]
  },
  {
   "cell_type": "code",
   "execution_count": 33,
   "metadata": {},
   "outputs": [
    {
     "data": {
      "text/plain": [
       "500"
      ]
     },
     "execution_count": 33,
     "metadata": {},
     "output_type": "execute_result"
    }
   ],
   "source": [
    "len(labelt)"
   ]
  },
  {
   "cell_type": "code",
   "execution_count": 34,
   "metadata": {},
   "outputs": [
    {
     "data": {
      "text/plain": [
       "0.396"
      ]
     },
     "execution_count": 34,
     "metadata": {},
     "output_type": "execute_result"
    }
   ],
   "source": [
    "from sklearn.metrics import precision_score, f1_score,recall_score, accuracy_score\n",
    "accuracy_score(labelt, labelp)"
   ]
  },
  {
   "cell_type": "code",
   "execution_count": 35,
   "metadata": {},
   "outputs": [
    {
     "name": "stdout",
     "output_type": "stream",
     "text": [
      "              precision    recall  f1-score   support\n",
      "\n",
      "           0       0.43      0.69      0.53       130\n",
      "           1       0.33      0.16      0.21        19\n",
      "           2       0.44      0.34      0.39        32\n",
      "           3       0.50      0.36      0.42        25\n",
      "           4       0.41      0.26      0.32        70\n",
      "           5       0.48      0.33      0.39        49\n",
      "           6       0.30      0.37      0.33        54\n",
      "           7       0.62      0.33      0.43        54\n",
      "           8       0.26      0.21      0.23        38\n",
      "           9       0.14      0.17      0.16        29\n",
      "\n",
      "   micro avg       0.40      0.40      0.40       500\n",
      "   macro avg       0.39      0.32      0.34       500\n",
      "weighted avg       0.41      0.40      0.38       500\n",
      "\n"
     ]
    }
   ],
   "source": [
    "from sklearn.metrics import classification_report\n",
    "print(classification_report(labelt, labelp))"
   ]
  },
  {
   "cell_type": "code",
   "execution_count": null,
   "metadata": {},
   "outputs": [],
   "source": []
  }
 ],
 "metadata": {
  "kernelspec": {
   "display_name": "ml",
   "language": "python",
   "name": "ml"
  },
  "language_info": {
   "codemirror_mode": {
    "name": "ipython",
    "version": 3
   },
   "file_extension": ".py",
   "mimetype": "text/x-python",
   "name": "python",
   "nbconvert_exporter": "python",
   "pygments_lexer": "ipython3",
   "version": "3.6.5"
  }
 },
 "nbformat": 4,
 "nbformat_minor": 2
}
